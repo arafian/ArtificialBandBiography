{
 "cells": [
  {
   "cell_type": "code",
   "execution_count": 22,
   "id": "polyphonic-strap",
   "metadata": {},
   "outputs": [],
   "source": [
    "import nltk\n",
    "import random"
   ]
  },
  {
   "cell_type": "code",
   "execution_count": 18,
   "id": "indoor-utilization",
   "metadata": {},
   "outputs": [
    {
     "data": {
      "text/plain": [
       "[('The', 'DT'), ('Ace', 'NNP'), ('of', 'IN'), ('Cups', 'NNP')]"
      ]
     },
     "execution_count": 18,
     "metadata": {},
     "output_type": "execute_result"
    }
   ],
   "source": [
    "text = 'The Ace of Cups'\n",
    "text = nltk.word_tokenize(text)\n",
    "text = nltk.pos_tag(text)\n",
    "text"
   ]
  },
  {
   "cell_type": "code",
   "execution_count": 30,
   "id": "structured-dublin",
   "metadata": {},
   "outputs": [],
   "source": [
    "titles = [\n",
    "    'The Ace of Cups',\n",
    "    'The Action Design',\n",
    "    'The Aislers Set',\n",
    "    'American Music Club',\n",
    "    'Animosity',\n",
    "    'Anvil Chorus',\n",
    "    'Automatic Pilot',\n",
    "    'Avengers',\n",
    "    'Back in the Saddle'\n",
    "]"
   ]
  },
  {
   "cell_type": "code",
   "execution_count": 32,
   "id": "similar-violin",
   "metadata": {},
   "outputs": [
    {
     "name": "stdout",
     "output_type": "stream",
     "text": [
      "[('the', 'DT'), ('ace', 'NN'), ('of', 'IN'), ('cups', 'NNS')]\n",
      "[('the', 'DT'), ('action', 'NN'), ('design', 'NN')]\n",
      "[('the', 'DT'), ('aislers', 'NNS'), ('set', 'VBD')]\n",
      "[('american', 'JJ'), ('music', 'NN'), ('club', 'NN')]\n",
      "[('animosity', 'NN')]\n",
      "[('anvil', 'NNS'), ('chorus', 'NN')]\n",
      "[('automatic', 'JJ'), ('pilot', 'NN')]\n",
      "[('avengers', 'NNS')]\n",
      "[('back', 'RB'), ('in', 'IN'), ('the', 'DT'), ('saddle', 'NN')]\n"
     ]
    }
   ],
   "source": [
    "for title in titles:\n",
    "    print(nltk.pos_tag(nltk.word_tokenize(title.lower())))"
   ]
  },
  {
   "cell_type": "code",
   "execution_count": 33,
   "id": "scientific-darwin",
   "metadata": {},
   "outputs": [],
   "source": [
    "determiners = []\n",
    "nouns = []\n",
    "adjectives = []\n",
    "for title in titles:\n",
    "    tagged_title = nltk.pos_tag(nltk.word_tokenize(title.lower()))\n",
    "    for tagged_word in tagged_title:\n",
    "        word = tagged_word[0]\n",
    "        pos = tagged_word[1]\n",
    "        if pos == 'DT':\n",
    "            determiners.append(word)\n",
    "        elif pos == 'NN' or pos == 'NNS':\n",
    "            nouns.append(word.capitalize())\n",
    "        elif pos == 'JJ':\n",
    "            adjectives.append(word.capitalize())"
   ]
  },
  {
   "cell_type": "code",
   "execution_count": 88,
   "id": "serious-example",
   "metadata": {},
   "outputs": [],
   "source": [
    "determiner = random.choice(determiners)\n",
    "[adjective1, adjective2] = random.sample(adjectives, 2)\n",
    "[noun1, noun2] = random.sample(nouns, 2)"
   ]
  },
  {
   "cell_type": "code",
   "execution_count": 89,
   "id": "coated-decade",
   "metadata": {},
   "outputs": [
    {
     "name": "stdout",
     "output_type": "stream",
     "text": [
      "the automatic american design\n"
     ]
    }
   ],
   "source": [
    "title_format = random.randrange(3)\n",
    "if title_format == 0:\n",
    "    print(determiner + ' ' + adjective1 + ' ' + noun1)\n",
    "elif title_format == 1:\n",
    "    print(determiner + ' ' + adjective1 + ' ' + adjective2 + ' ' + noun1)\n",
    "elif title_format == 2:\n",
    "    print(determiner + ' ' + noun1 + ' and ' + determiner + ' ' + noun2)"
   ]
  },
  {
   "cell_type": "code",
   "execution_count": null,
   "id": "coordinate-honolulu",
   "metadata": {},
   "outputs": [],
   "source": []
  }
 ],
 "metadata": {
  "kernelspec": {
   "display_name": "Python 3",
   "language": "python",
   "name": "python3"
  },
  "language_info": {
   "codemirror_mode": {
    "name": "ipython",
    "version": 3
   },
   "file_extension": ".py",
   "mimetype": "text/x-python",
   "name": "python",
   "nbconvert_exporter": "python",
   "pygments_lexer": "ipython3",
   "version": "3.7.3"
  }
 },
 "nbformat": 4,
 "nbformat_minor": 5
}
