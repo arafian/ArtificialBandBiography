{
 "cells": [
  {
   "cell_type": "code",
   "execution_count": 25,
   "metadata": {},
   "outputs": [],
   "source": [
    "import requests\n",
    "from bs4 import BeautifulSoup\n",
    "import pandas as pd\n",
    "\n",
    "response = requests.get(url=\"https://en.wikipedia.org/wiki/Category:Lists_of_bands\")\n",
    "soup = BeautifulSoup(response.content, 'html.parser')\n",
    "\n",
    "div = soup.find(id='mw-pages')\n",
    "links = div.findAll('a')\n",
    "neg_kw = {'#', 'artist', 'musician', 'type', 'name', 'performer'}\n",
    "pos_kw = {'band'}\n",
    "res = []\n",
    "for a in links:\n",
    "    link = 'https://en.wikipedia.org' + a['href']\n",
    "    good_link = True\n",
    "    for n in neg_kw:\n",
    "        if n in link:\n",
    "            good_link = False\n",
    "            break\n",
    "            \n",
    "    for p in pos_kw:\n",
    "        if p not in link:\n",
    "            good_link = False\n",
    "            break\n",
    "     \n",
    "    if good_link:\n",
    "        res.append(link)\n",
    "    \n",
    "pd.DataFrame(res).to_csv('lists_of_bands.csv', index = False, header = False)"
   ]
  },
  {
   "cell_type": "code",
   "execution_count": null,
   "metadata": {},
   "outputs": [],
   "source": []
  }
 ],
 "metadata": {
  "kernelspec": {
   "display_name": "Python 3",
   "language": "python",
   "name": "python3"
  },
  "language_info": {
   "codemirror_mode": {
    "name": "ipython",
    "version": 3
   },
   "file_extension": ".py",
   "mimetype": "text/x-python",
   "name": "python",
   "nbconvert_exporter": "python",
   "pygments_lexer": "ipython3",
   "version": "3.8.2"
  }
 },
 "nbformat": 4,
 "nbformat_minor": 4
}
