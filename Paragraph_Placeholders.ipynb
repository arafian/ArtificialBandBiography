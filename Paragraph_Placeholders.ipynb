{
 "cells": [
  {
   "cell_type": "code",
   "execution_count": 1,
   "metadata": {},
   "outputs": [
    {
     "name": "stderr",
     "output_type": "stream",
     "text": [
      "WARNING: You are using pip version 20.2.3; however, version 21.0.1 is available.\n",
      "You should consider upgrading via the 'c:\\users\\movvam\\appdata\\local\\programs\\python\\python39\\python.exe -m pip install --upgrade pip' command.\n"
     ]
    },
    {
     "name": "stdout",
     "output_type": "stream",
     "text": [
      "Requirement already satisfied: gender-guesser in c:\\users\\movvam\\appdata\\local\\programs\\python\\python39\\lib\\site-packages (0.4.0)\n"
     ]
    }
   ],
   "source": [
    "!pip install gender-guesser\n",
    "import json\n",
    "import re\n",
    "import nltk\n",
    "from nltk.corpus import wordnet\n",
    "import calendar\n",
    "import gender_guesser.detector as gender\n",
    "import random"
   ]
  },
  {
   "cell_type": "code",
   "execution_count": 3,
   "metadata": {},
   "outputs": [],
   "source": [
    "\n",
    "with open(\"data/consolidatedData.json\", 'r', encoding='utf-8') as f:\n",
    "    consolidatedData = json.load(f)\n",
    "\n",
    "p = random.choice(consolidatedData['allPrunedParaComplete'])"
   ]
  },
  {
   "cell_type": "code",
   "execution_count": 15,
   "metadata": {},
   "outputs": [
    {
     "data": {
      "text/plain": [
       "{'p1': \"[BAND_NAME] is a [GENRE] band formed in [MONTH] [YEAR]. After Ellegarden decided to go into hiatus in [YEAR], the group's guitarist [PERSON_NAME_FULL_0_MALE] created [BAND_NAME] as his solo project. Their debut album Parallel Lives was released on [MONTH] 6, [YEAR], debuting at No.\\xa011 on the Japanese Oricon weekly album charts.\\n\",\n",
       " 'p2': 'In [YEAR], the popular pop punk group Ellegarden announced that they would enter an indefinite hiatus. Guitarist [PERSON_NAME_FULL_0_MALE] used the break as an opportunity to start a new band called Nothing\\'s Carved In Stone. He quickly recruited [PERSON_NAME_FULL_2_MALE] of Straightener to be his new bassist and Takanori \"Oniy\" Ohkita from FULLARMOR to join on drums, and they began holding sessions together. However, the band struggled to find a vocalist for nearly half a year. They eventually settled on [PERSON_NAME_FULL_1_MALE], the singer of an indie rock band called ABSTRACT MASH, who [PERSON_NAME_LAST_0] discovered through his band\\'s Myspace. After showing his bandmates a few videos, [PERSON_NAME_LAST_0] and Ohkita attended one of ABSTRACT MASH\\'s lives and, charmed by [PERSON_NAME_LAST_1]\\'s performance, convinced him to join the band.\\n'}"
      ]
     },
     "execution_count": 15,
     "metadata": {},
     "output_type": "execute_result"
    }
   ],
   "source": [
    "\n",
    "a = ['p1','p2','p3']\n",
    "b = p[:2]\n",
    "dict(zip(a, b))"
   ]
  },
  {
   "cell_type": "markdown",
   "metadata": {},
   "source": [
    "## Band Name Placeholder"
   ]
  },
  {
   "cell_type": "code",
   "execution_count": 3,
   "metadata": {},
   "outputs": [],
   "source": [
    "def band_placeholder(data, texts):\n",
    "    band_name = data['Name']\n",
    "    if '(' in band_name: # some bands have disambiguation in the title such as \"Mother Earth (American band)\"\n",
    "        band_name = ' '.join(band_name.split(' (')[:-1])\n",
    "        \n",
    "    return_texts = []\n",
    "    for text in texts:\n",
    "        text = re.sub(band_name, '[BAND_NAME]', text)\n",
    "        return_texts.append(text)\n",
    "        \n",
    "    return return_texts"
   ]
  },
  {
   "cell_type": "markdown",
   "metadata": {},
   "source": [
    "## Year Placeholder"
   ]
  },
  {
   "cell_type": "code",
   "execution_count": 5,
   "metadata": {},
   "outputs": [],
   "source": [
    "def year_placeholder(texts):\n",
    "    return_texts = []\n",
    "    for text in texts:\n",
    "        text = re.sub(\"[0-9]{4}\", '[YEAR]', text)\n",
    "        return_texts.append(text)\n",
    "    return return_texts"
   ]
  },
  {
   "cell_type": "markdown",
   "metadata": {},
   "source": [
    "## Month Placeholder"
   ]
  },
  {
   "cell_type": "code",
   "execution_count": 6,
   "metadata": {},
   "outputs": [],
   "source": [
    "def month_placeholder(texts):\n",
    "    return_texts = []\n",
    "    for text in texts:\n",
    "        months = [calendar.month_name[i] for i in range(1,13)] + [calendar.month_abbr[i] for i in range(1,13)]\n",
    "        for month in months:\n",
    "            text = re.sub(month, '[MONTH]', text)\n",
    "        return_texts.append(text)\n",
    "    return return_texts"
   ]
  },
  {
   "cell_type": "markdown",
   "metadata": {},
   "source": [
    "## Name Placeholder\n",
    "https://stackoverflow.com/questions/20290870/improving-the-extraction-of-human-names-with-nltk\n",
    "Shivansh bhandari's answer"
   ]
  },
  {
   "cell_type": "code",
   "execution_count": 7,
   "metadata": {},
   "outputs": [],
   "source": [
    "def get_person_names(data, text):\n",
    "    person_list = []\n",
    "    person_names=person_list\n",
    "    def get_human_names(text):\n",
    "        tokens = nltk.tokenize.word_tokenize(text)\n",
    "        pos = nltk.pos_tag(tokens)\n",
    "        sentt = nltk.ne_chunk(pos, binary = False)\n",
    "\n",
    "        person = []\n",
    "        name = \"\"\n",
    "        for subtree in sentt.subtrees(filter=lambda t: t.label() == 'PERSON'):\n",
    "            for leaf in subtree.leaves():\n",
    "                person.append(leaf[0])\n",
    "            if len(person) > 1: #avoid grabbing lone surnames\n",
    "                for part in person:\n",
    "                    name += part + ' '\n",
    "                if name[:-1] not in person_list:\n",
    "                    person_list.append(name[:-1])\n",
    "                name = ''\n",
    "            person = []\n",
    "\n",
    "    names_ = get_human_names(text)\n",
    "    for person in person_list:\n",
    "        person_split = person.split(\" \")\n",
    "        for name in person_split:\n",
    "            if wordnet.synsets(name):\n",
    "                if(name in person):\n",
    "                    person_names.remove(person)\n",
    "                    break\n",
    "                    \n",
    "    # add member names from infobox\n",
    "    if 'infobox' in data.keys():\n",
    "        members = []\n",
    "        if 'Members' in data['infobox'].keys():\n",
    "            members += data['infobox']['Members']\n",
    "\n",
    "        if 'Past members' in data['infobox'].keys():\n",
    "            members += data['infobox']['Past members']\n",
    "            \n",
    "        # some members have extra information that needs to be removed such as 'Earl Yager - bass'\n",
    "        for member in members:\n",
    "            member = member.split()\n",
    "            if len(member) > 1:\n",
    "                member = member[0] + member[1]\n",
    "            else:\n",
    "                member = member[0]\n",
    "\n",
    "            person_names.append(member)\n",
    "            \n",
    "    person_names = set(person_names)\n",
    "    return person_names"
   ]
  },
  {
   "cell_type": "code",
   "execution_count": 8,
   "metadata": {},
   "outputs": [],
   "source": [
    "def get_name_genders(person_names):\n",
    "    name_genders = {}\n",
    "    d = gender.Detector()\n",
    "    for name in person_names:\n",
    "        g = d.get_gender(name.split()[0])\n",
    "        if 'female' in g:\n",
    "            name_genders[name] = 'FEMALE'\n",
    "        elif 'male' in g:\n",
    "            name_genders[name] = 'MALE'\n",
    "        elif g == 'andy':\n",
    "            name_genders[name] = random.choice(['MALE', 'FEMALE'])\n",
    "        else:\n",
    "            continue # unknown name\n",
    "            \n",
    "    return name_genders"
   ]
  },
  {
   "cell_type": "code",
   "execution_count": 9,
   "metadata": {},
   "outputs": [],
   "source": [
    "def person_name_placeholder(data, texts):\n",
    "    person_names = get_person_names(data, ''.join(texts))\n",
    "    name_genders = get_name_genders(person_names)\n",
    "    i = 0\n",
    "    for name,gender in name_genders.items():\n",
    "        return_texts = []\n",
    "        for text in texts:\n",
    "            text = re.sub(name, '[PERSON_NAME_FULL_' + str(i) + '_' + gender + ']', text)\n",
    "            if len(name.split()) > 1: # some only have first names\n",
    "                first = name.split()[0]\n",
    "                last = name.split()[-1]\n",
    "                # don't want abbreviations to be subsituted\n",
    "                if len(first) > 2:\n",
    "                    text = re.sub(first, '[PERSON_NAME_FIRST_' + str(i) + ']', text) # replace first name\n",
    "\n",
    "                if len(last) > 2:\n",
    "                    text = re.sub(last, '[PERSON_NAME_LAST_' + str(i) + ']', text) # replace last name\n",
    "            return_texts.append(text)\n",
    "        texts = return_texts\n",
    "        i += 1\n",
    "        \n",
    "    return texts"
   ]
  },
  {
   "cell_type": "markdown",
   "metadata": {},
   "source": [
    "## Genre Placeholder"
   ]
  },
  {
   "cell_type": "markdown",
   "metadata": {},
   "source": [
    "### Get all genres"
   ]
  },
  {
   "cell_type": "code",
   "execution_count": 10,
   "metadata": {},
   "outputs": [],
   "source": [
    "with open('data/consolidatedData.json', 'r', encoding='utf-8') as f:\n",
    "    data = json.load(f)\n",
    "    \n",
    "genres = set()\n",
    "for genre in data['allGenres']:\n",
    "    if isinstance(genre, str):\n",
    "        g = re.split(',|\\[', genre)[0]\n",
    "        genres.add(g)\n",
    "        \n",
    "genres = list(genres) # need to convert to list to be able to take a random choice from it"
   ]
  },
  {
   "cell_type": "code",
   "execution_count": 11,
   "metadata": {},
   "outputs": [],
   "source": [
    "def genre_placeholder(texts):\n",
    "    return_texts = []\n",
    "    for text in texts:\n",
    "        part2 = re.split(' a | an ', text)\n",
    "        genre = None\n",
    "        if len(part2) > 1:\n",
    "            genre = re.split(' band', part2[1])[0]\n",
    "        if genre:\n",
    "            text = re.sub(genre, '[GENRE]', text)\n",
    "\n",
    "        return_texts.append(text)\n",
    "\n",
    "    return return_texts"
   ]
  },
  {
   "cell_type": "markdown",
   "metadata": {},
   "source": [
    "## Paragraph Placeholder"
   ]
  },
  {
   "cell_type": "code",
   "execution_count": 18,
   "metadata": {},
   "outputs": [],
   "source": [
    "def get_paragraph_placeholders(json_file):\n",
    "    with open(json_file, 'r', encoding='utf-8') as f:\n",
    "        data = json.load(f)\n",
    "        \n",
    "    texts = data['rawData']\n",
    "    texts = band_placeholder(data, texts)\n",
    "    texts = year_placeholder(texts)\n",
    "    texts = month_placeholder(texts)\n",
    "    texts = person_name_placeholder(data, texts)\n",
    "    try:\n",
    "        texts = genre_placeholder(texts)\n",
    "    except:\n",
    "        pass\n",
    "    #prunedData = []\n",
    "    #for para in data['rawData']:\n",
    "    #    prunedPara = band_placeholder(data, para)\n",
    "    #    prunedPara = year_placeholder(prunedPara)\n",
    "    #    prunedPara = month_placeholder(prunedPara)\n",
    "    #    prunedPara = person_name_placeholder(data, prunedPara)\n",
    "    #    try:\n",
    "    #        prunedPara = genre_placeholder(prunedPara)\n",
    "    #    except:\n",
    "    #        pass\n",
    "    #    prunedData.append(prunedPara)\n",
    "    return texts"
   ]
  },
  {
   "cell_type": "code",
   "execution_count": 19,
   "metadata": {
    "scrolled": true
   },
   "outputs": [
    {
     "name": "stdout",
     "output_type": "stream",
     "text": [
      "[\"\\n[BAND_NAME] was a [PERSON_NAME_FIRST_8]tian rock band that recorded during the early [YEAR]s.  The band's name is an acronym for the band's founder and lead singer, [PERSON_NAME_FIRST_1] [PERSON_NAME_FULL_7_MALE].\\n\", '[PERSON_NAME_FIRST_1] \"[PERSON_NAME_FIRST_1]ny\" [PERSON_NAME_FULL_7_MALE], Jr. ([MONTH] 11, [YEAR] – [MONTH] 5, [YEAR]) was born in Houston, Texas to [PERSON_NAME_FIRST_1] A. \"Oscar\" [PERSON_NAME_LAST_7], Sr. and [PERSON_NAME_FULL_0_FEMALE]. (Gray) [PERSON_NAME_LAST_7], one of three children ([PERSON_NAME_FIRST_9] and Wendy, his two siblings).  [PERSON_NAME_LAST_7] started playing drums at age 10 and taught himself to play guitar and piano. Graduating in [YEAR] from Channelview High School in Harris County, Texas, [PERSON_NAME_FIRST_1] attended Texas A&M University. He married his wife, Ricka Cox around [YEAR], with whom he had two children, [PERSON_NAME_FULL_1_MALE] and Annie Grace.\\n', \"Building on his passion for music, [PERSON_NAME_LAST_7] formed [BAND_NAME] in the late [YEAR]s. [BAND_NAME]'s original lineup for their [YEAR] debut, The Longest Road included guitarist J. [PERSON_NAME_FULL_2_MALE], guitarist and keyboardist [PERSON_NAME_LAST_1] McCreight, bassist [PERSON_NAME_FULL_3_MALE], drummer Chuck Connor, and [PERSON_NAME_LAST_7] on lead vocals. Their [YEAR] follow up The Only World in Town traded McCreight for [PERSON_NAME_FULL_9_MALE] and featured additional help from drummer [PERSON_NAME_FULL_8_MALE]  and guitarists, Jim Williams, [PERSON_NAME_FULL_4_MALE] (originally of Geoff Moore's band) and Giant's Dann Huff. Produced by frequent CCM-session keyboardist Blair Masters, [BAND_NAME]'s final album, Fire in the Temple, featured songs written by [PERSON_NAME_LAST_7], and the likes of [PERSON_NAME_FULL_6_MALE] and [MONTH]k Gersmehl and performed by players Gordon Kennedy, [PERSON_NAME_FULL_8_MALE] and [PERSON_NAME_FULL_5_MALE], all of whom were current or former members of the group Whiteheart, a band's sound to which [BAND_NAME] is oft-compared.\\n\"]\n"
     ]
    }
   ],
   "source": [
    "x = get_paragraph_placeholders('data/452.json')\n"
   ]
  },
  {
   "cell_type": "code",
   "execution_count": null,
   "metadata": {
    "tags": [
     "outputPrepend"
    ]
   },
   "outputs": [],
   "source": [
    "with open('data/consolidatedData.json', 'r', encoding='utf-8') as inf:\n",
    "    data = json.load(inf)\n",
    "    \n",
    "complete_paras = []    \n",
    "for i in range(1657):\n",
    "    para_placeholder = None\n",
    "    try:\n",
    "        complete_paras.append(get_paragraph_placeholder('data/' + str(i) + '.json'))\n",
    "    except:\n",
    "        print(i)\n",
    "\n",
    "data['allRawParaComplete'] = complete_paras\n",
    "\n",
    "with open('data/consolidatedData.json', 'w', encoding='utf-8') as inf:\n",
    "    json.dump(inf, data)"
   ]
  },
  {
   "cell_type": "code",
   "execution_count": null,
   "metadata": {},
   "outputs": [],
   "source": []
  }
 ],
 "metadata": {
  "kernelspec": {
   "display_name": "Python 3",
   "language": "python",
   "name": "python3"
  },
  "language_info": {
   "codemirror_mode": {
    "name": "ipython",
    "version": 3
   },
   "file_extension": ".py",
   "mimetype": "text/x-python",
   "name": "python",
   "nbconvert_exporter": "python",
   "pygments_lexer": "ipython3",
   "version": "3.9.1"
  }
 },
 "nbformat": 4,
 "nbformat_minor": 2
}
