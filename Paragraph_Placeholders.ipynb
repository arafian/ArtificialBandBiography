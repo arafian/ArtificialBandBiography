{
 "cells": [
  {
   "cell_type": "code",
   "execution_count": 3,
   "metadata": {},
   "outputs": [
    {
     "output_type": "stream",
     "name": "stderr",
     "text": [
      "WARNING: You are using pip version 20.2.3; however, version 21.0.1 is available.\n",
      "You should consider upgrading via the 'c:\\users\\movvam\\appdata\\local\\programs\\python\\python39\\python.exe -m pip install --upgrade pip' command.\n",
      "Requirement already satisfied: gender-guesser in c:\\users\\movvam\\appdata\\local\\programs\\python\\python39\\lib\\site-packages (0.4.0)\n"
     ]
    }
   ],
   "source": [
    "!pip install gender-guesser\n",
    "import json\n",
    "import re\n",
    "import nltk\n",
    "from nltk.corpus import wordnet\n",
    "import calendar\n",
    "import gender_guesser.detector as gender\n",
    "import random"
   ]
  },
  {
   "cell_type": "markdown",
   "metadata": {},
   "source": [
    "## Band Name Placeholder"
   ]
  },
  {
   "cell_type": "code",
   "execution_count": 4,
   "metadata": {},
   "outputs": [],
   "source": [
    "def band_placeholder(data, text):\n",
    "    band_name = data['Name']\n",
    "    if '(' in band_name: # some bands have disambiguation in the title such as \"Mother Earth (American band)\"\n",
    "        band_name = ' '.join(band_name.split(' (')[:-1])\n",
    "    text = re.sub(band_name, '[BAND_NAME]', text)\n",
    "    return text"
   ]
  },
  {
   "cell_type": "markdown",
   "metadata": {},
   "source": [
    "## Year Placeholder"
   ]
  },
  {
   "cell_type": "code",
   "execution_count": 5,
   "metadata": {},
   "outputs": [],
   "source": [
    "def year_placeholder(text):\n",
    "    return re.sub(\"[0-9]{4}\", '[YEAR]', text)"
   ]
  },
  {
   "cell_type": "markdown",
   "metadata": {},
   "source": [
    "## Month Placeholder"
   ]
  },
  {
   "cell_type": "code",
   "execution_count": 6,
   "metadata": {},
   "outputs": [],
   "source": [
    "def month_placeholder(text):\n",
    "    months = [calendar.month_name[i] for i in range(1,13)] + [calendar.month_abbr[i] for i in range(1,13)]\n",
    "    for month in months:\n",
    "        text = re.sub(month, '[MONTH]', text)\n",
    "        \n",
    "    return text"
   ]
  },
  {
   "cell_type": "markdown",
   "metadata": {},
   "source": [
    "## Name Placeholder\n",
    "https://stackoverflow.com/questions/20290870/improving-the-extraction-of-human-names-with-nltk\n",
    "Shivansh bhandari's answer"
   ]
  },
  {
   "cell_type": "code",
   "execution_count": 7,
   "metadata": {},
   "outputs": [],
   "source": [
    "def get_person_names(data, text):\n",
    "    person_list = []\n",
    "    person_names=person_list\n",
    "    def get_human_names(text):\n",
    "        tokens = nltk.tokenize.word_tokenize(text)\n",
    "        pos = nltk.pos_tag(tokens)\n",
    "        sentt = nltk.ne_chunk(pos, binary = False)\n",
    "\n",
    "        person = []\n",
    "        name = \"\"\n",
    "        for subtree in sentt.subtrees(filter=lambda t: t.label() == 'PERSON'):\n",
    "            for leaf in subtree.leaves():\n",
    "                person.append(leaf[0])\n",
    "            if len(person) > 1: #avoid grabbing lone surnames\n",
    "                for part in person:\n",
    "                    name += part + ' '\n",
    "                if name[:-1] not in person_list:\n",
    "                    person_list.append(name[:-1])\n",
    "                name = ''\n",
    "            person = []\n",
    "\n",
    "    names_ = get_human_names(text)\n",
    "    for person in person_list:\n",
    "        person_split = person.split(\" \")\n",
    "        for name in person_split:\n",
    "            if wordnet.synsets(name):\n",
    "                if(name in person):\n",
    "                    person_names.remove(person)\n",
    "                    break\n",
    "                    \n",
    "    # add member names from infobox\n",
    "    if 'infobox' in data.keys():\n",
    "        members = []\n",
    "        if 'Members' in data['infobox'].keys():\n",
    "            members += data['infobox']['Members']\n",
    "\n",
    "        if 'Past members' in data['infobox'].keys():\n",
    "            members += data['infobox']['Past members']\n",
    "            \n",
    "        # some members have extra information that needs to be removed such as 'Earl Yager - bass'\n",
    "        for member in members:\n",
    "            member = member.split()\n",
    "            if len(member) > 1:\n",
    "                member = member[0] + member[1]\n",
    "            else:\n",
    "                member = member[0]\n",
    "\n",
    "            person_names.append(member)\n",
    "            \n",
    "    person_names = set(person_names)\n",
    "    return person_names"
   ]
  },
  {
   "cell_type": "code",
   "execution_count": 14,
   "metadata": {},
   "outputs": [],
   "source": [
    "def get_name_genders(person_names):\n",
    "    name_genders = {}\n",
    "    d = gender.Detector()\n",
    "    for name in person_names:\n",
    "        g = d.get_gender(name.split()[0])\n",
    "        if 'female' in g:\n",
    "            name_genders[name] = 'FEMALE'\n",
    "        elif 'male' in g:\n",
    "            name_genders[name] = 'MALE'\n",
    "        elif g == 'andy':\n",
    "            name_genders[name] = random.choice(['MALE', 'FEMALE'])\n",
    "        else:\n",
    "            continue # unknown name\n",
    "            \n",
    "    return name_genders"
   ]
  },
  {
   "cell_type": "code",
   "execution_count": 8,
   "metadata": {},
   "outputs": [],
   "source": [
    "def person_name_placeholder(data, text):\n",
    "    person_names = get_person_names(data, text)\n",
    "    name_genders = get_name_genders(person_names)\n",
    "    i = 0\n",
    "    for name,gender in name_genders.items():\n",
    "        text = re.sub(name, '[PERSON_NAME_FULL_' + str(i) + '_' + gender + ']', text)\n",
    "        if len(name.split()) > 1: # some only have first names\n",
    "            text = re.sub(name.split()[0], '[PERSON_NAME_FIRST_' + str(i) + ']', text) # replace first name\n",
    "            text = re.sub(name.split()[1], '[PERSON_NAME_LAST_' + str(i) + ']', text) # replace last name\n",
    "        i += 1\n",
    "        \n",
    "    return text"
   ]
  },
  {
   "cell_type": "markdown",
   "metadata": {},
   "source": [
    "## Genre Placeholder"
   ]
  },
  {
   "cell_type": "markdown",
   "metadata": {},
   "source": [
    "### Get all genres"
   ]
  },
  {
   "cell_type": "code",
   "execution_count": 9,
   "metadata": {},
   "outputs": [],
   "source": [
    "with open('data/consolidatedData.json', 'r', encoding='utf-8') as f:\n",
    "    data = json.load(f)\n",
    "    \n",
    "genres = set()\n",
    "for genre in data['allGenres']:\n",
    "    if isinstance(genre, str):\n",
    "        g = re.split(',|\\[', genre)[0]\n",
    "        genres.add(g)\n",
    "        \n",
    "genres = list(genres) # need to convert to list to be able to take a random choice from it"
   ]
  },
  {
   "cell_type": "code",
   "execution_count": 10,
   "metadata": {},
   "outputs": [],
   "source": [
    "def genre_placeholder(text):\n",
    "    part2 = re.split(' a | an ', text)\n",
    "    genre = None\n",
    "    if len(part2) > 1:\n",
    "        genre = re.split(' band', part2[1])[0]\n",
    "    print(part2)   \n",
    "    print(genre)\n",
    "    if genre:\n",
    "        text = re.sub(genre, '[GENRE]', text)\n",
    "    \n",
    "    return text"
   ]
  },
  {
   "cell_type": "markdown",
   "metadata": {},
   "source": [
    "## Paragraph Placeholder"
   ]
  },
  {
   "cell_type": "code",
   "execution_count": 19,
   "metadata": {},
   "outputs": [],
   "source": [
    "def get_paragraph_placeholders(json_file):\n",
    "     with open(json_file, 'r', encoding='utf-8') as f:\n",
    "         data = json.load(f)\n",
    "        \n",
    "    prunedData = []\n",
    "    for para in data['rawData']:\n",
    "        prunedPara = band_placeholder(data, para)\n",
    "        prunedPara = year_placeholder(prunedPara)\n",
    "        prunedPara = month_placeholder(prunedPara)\n",
    "        prunedPara = person_name_placeholder(data, prunedPara)\n",
    "        try:\n",
    "            prunedPara = genre_placeholder(prunedPara)\n",
    "        except:\n",
    "            pass\n",
    "        prunedData.append(prunedPara)\n",
    "    return prunedData"
   ]
  },
  {
   "cell_type": "code",
   "execution_count": 20,
   "metadata": {},
   "outputs": [
    {
     "output_type": "stream",
     "name": "stdout",
     "text": [
      "size of data:  3\n",
      "['[BAND_NAME] was', 'short-lived band from Seattle, Washington formed in [YEAR] that has been described as sludge metal or grunge. Rock journalist [PERSON_NAME_FULL_0_MALE] writing in Allmusic describes the band\\'s music as \"rough and ready, sludgy guitar rock with', 'bad attitude\".\\n']\n",
      "short-lived\n",
      "[\"The band's first release was\", 'single, [YEAR]\\'s \"Two Way Street\"/\"Six Foot Under\", on Sub Pop. Both Mudhoney and Nirvana performed their first shows in Seattle opening for [BAND_NAME] at the Vogue in [YEAR].\\n']\n",
      "single, [YEAR]'s \"Two Way Street\"/\"Six Foot Under\", on Sub Pop. Both Mudhoney and Nirvana performed their first shows in Seattle opening for [BAND_NAME] at the Vogue in [YEAR].\n",
      "\n",
      "[\"In [YEAR] Sub Pop released the band's first and only album,\", 'five-track EP called Primal Rock Therapy which, despite being now recognised as', 'milestone record of that time and place, was at the time panned by the critics and ignored by the public. This contributed to the split of the band in [YEAR] after', 'North American tour with the French band Les Thugs.  Both bands played in San Francisco in [MONTH] [YEAR].\\n']\n",
      "five-track EP called Primal Rock Therapy which, despite being now recognised as\n"
     ]
    }
   ],
   "source": [
    "x = get_paragraph_placeholder('data/4.json')"
   ]
  },
  {
   "cell_type": "code",
   "execution_count": 24,
   "metadata": {},
   "outputs": [
    {
     "output_type": "execute_result",
     "data": {
      "text/plain": [
       "\"In [YEAR] Sub Pop released the band's first and only album, a [GENRE] a milestone record of that time and place, was at the time panned by the critics and ignored by the public. This contributed to the split of the band in [YEAR] after a North American tour with the French band Les Thugs.  Both bands played in San Francisco in [MONTH] [YEAR].\\n\""
      ]
     },
     "metadata": {},
     "execution_count": 24
    }
   ],
   "source": [
    "x[2]"
   ]
  },
  {
   "cell_type": "code",
   "execution_count": 13,
   "metadata": {
    "tags": [
     "outputPrepend"
    ]
   },
   "outputs": [
    {
     "output_type": "stream",
     "name": "stdout",
     "text": [
      " is cinematic in scope with soothing soundscapes of atmospheric, ambient, and shimmering chimes interspersed with crashing interludes...This isn\\'t average post rock that drags and bores the listener, this is tight and well thought out songs that burst with color and expand with repeated listens.\" Their most recent release is', 'remix EP called Translations.\\n']\n",
      "American Indie rock\n",
      "['[BAND_NAME] were', 'American synthpunk band, founded in [PERSON_NAME_FULL_0_FEMALE] in [YEAR] and active until [YEAR]. They were one of America\\'s earliest electronic new wave bands, and have been cited (along with The Screamers and Suicide) as pioneers of synthpunk, also retrospectively known as \"electropunk\". [BAND_NAME] were notable for their use of synthesizers in place of guitars, and multimedia performances featuring multiple projections of satirical, instructional films critical of conformity and consumerism.\\n[BAND_NAME] was one of the most popular bands of the [PERSON_NAME_FULL_0_FEMALE] punk and performance art scene during the late [YEAR]s and early [YEAR]s, headlining at the Mabuhay Gardens (aka The Fab Mab), The Savoy Tivoli, The Berkeley Square, The Deaf Club, Valencia Tool & Die, [PERSON_NAME_FULL_2_MALE] and other punk clubs. [BAND_NAME] also opened for such bands as  Soft Cell, [PERSON_NAME_FULL_1_MALE], Ultravox, XTC, Bow Wow Wow, the Psychedelic Furs, the Police, Iggy Pop, Dead Kennedys, Sparks and toured the United States with Orchestral Manoeuvres in the Dark.\\nNotable performance art appearances included \"Punk Under Glass\", where the Units performed in the windows of the JC Penney building in downtown [PERSON_NAME_FULL_0_FEMALE], as part of', ' two-day art installation, and the Labat / Chapman Fight at Kezar Pavilion,', 'performance art boxing match between two artists  where the Units played the national anthem.\\n']\n",
      "American synthpunk\n",
      "['[BAND_NAME] was', 'San Francisco-based rock band active in the early to late [YEAR]s.  The band released four 12\" singles in [YEAR] on 415 Records / CBS. A self-titled album [BAND_NAME] was released in [YEAR] by 415 Records / CBS, which contained their biggest hit \"Heaven\".\\nOther notable songs performed by [BAND_NAME] include their song \"[BAND_NAME]\", \"Live Alone In Shame\" (B-Side to the 12\" of \"[BAND_NAME] - The Berlin Mix\") and', 'cover of the song \"Bela Lugosi\\'s Dead\" by Bauhaus. In [YEAR], they released 12\" singles of \"Call Me\" B/W \"[PERSON_NAME_FULL_1_FEMALE]\" and \"Secrets (I Won\\'t Tell)\" B/W \"We Are The Boys\". A full list of their discography can be found at Discogs.com.\\nThey toured the U.S. as', \"headliner and with seminal 80's bands such as New Order, Gene Loves Jezebel, and Specimen.  The band was especially popular in the leather subculture. Before the band split up they expanded their line up to\", 'five-piece with the addition of [MONTH]k Pistel on bass and [PERSON_NAME_FULL_0_MALE], from Specimen, as', 'second drummer.\\n']\n",
      "San Francisco-based rock\n",
      "['[BAND_NAME] is', 'American glam metal band from San Francisco Bay Area, California, formed in [YEAR]. As of [YEAR], the lineup consists of Davy [BAND_NAME] (lead vocals), Joel Proto (guitar), [PERSON_NAME_FULL_1_FEMALE] (bass) and [PERSON_NAME_FULL_3_MALE] (drums).\\nAfter recording', 'demo, Davy [BAND_NAME] founded [BAND_NAME] in [YEAR], adding Dylana [MONTH]a (formerly Jamie Scott before coming out as transgender), [PERSON_NAME_FULL_0_MALE], [PERSON_NAME_FULL_1_FEMALE] and drummer Tom [PERSON_NAME_LAST_3] to the lineup. They signed with Island Records in [YEAR], before releasing their debut album the following year, titled No Respect, which peaked at number 154 on the Billboard 200.\\nThough they recorded', \"second album, [BAND_NAME] were released by Island in [YEAR], with [PERSON_NAME_LAST_0] and [PERSON_NAME_LAST_3] departing the same year. Following the addition of both Shawn Rorie and former Guns N' Roses drummer [PERSON_NAME_FULL_2_MALE], [BAND_NAME] renamed themselves Road Crew. However, they also disbanded in [YEAR]. The band reformed in [YEAR] and went through\", 'number of lineup changes for the release of their next two studio albums. By [YEAR], Scott and [PERSON_NAME_LAST_0] had returned to the band, while [PERSON_NAME_LAST_3] would rejoin them in [YEAR] (before departing again the following year).\\n']\n",
      "American glam metal\n",
      "['[BAND_NAME] were', 'American rock band from Millbrae, California, United States. They recorded for the Autumn label and found limited success with such songs as \"I Still Love You\" and', 'cover version of Tom Paxton\\'s \"The Last Thing on My Mind\".\\nLead singer [MONTH] Errico also played drums for the group\\'s recordings, making her one of the relatively few female drummers at the time. [BAND_NAME] began their career playing bars and nightclubs along  [PERSON_NAME_FULL_0_FEMALE] on the San Francisco Peninsula, even though they were still in high school at the time.\\nThe band\\'s origin was Portola Valley which is south of San Francisco. They started playing together around [YEAR] A good body of their Autumn recordings were produced by Sly Stone.\\n']\n",
      "American rock\n",
      "['[BAND_NAME] is', 'avant-garde band formed in San Francisco in [YEAR].  Taking its name from the works of 19th century author [MONTH]es Verne, [BAND_NAME] is', 'band that creates music themed around Victorian scientific romance and its modern counterpart steampunk. Their sound is', 'fusion of modern and old-world styles including gothic-rock darkwave, progressive rock, neoclassical, trip hop, ragtime, and other related genres.  The band consists of vocalist Joshua A. Pfeiffer, and multi-instrumentalists [MONTH]tín Irigoyen, Steven Farrell, and [PERSON_NAME_FULL_0_MALE].\\nPfeiffer began working on music under the name [BAND_NAME] in the winter of [YEAR]. He released', \"number of downloadable albums over the next 4 years, including [YEAR]'s Discovery and  [YEAR]'s The Forgotten Age, before being approached by Irigoyen about joining forces to work on Behold the Machine.  From that point forward, [BAND_NAME] evolved beyond\", 'solo project.  Throughout [YEAR], as work on the album progressed, [BAND_NAME] sought out additional members in order to play shows to support the upcoming release of Behold the Machine, as well as record new material for future albums.  \\nBehold the Machine was released on [MONTH] 1, [YEAR].\\n']\n",
      "avant-garde\n",
      "['[BAND_NAME] is', \"American folk band headed by songwriter [PERSON_NAME_FULL_2_MALE].\\n[BAND_NAME] was formed in San Francisco in [YEAR].  The band released their self-titled debut album in [YEAR] on the small indie folk label DiCristina. Since the album's release, [BAND_NAME] has toured extensively, opening for and collaborating with [PERSON_NAME_FULL_0_FEMALE] and [PERSON_NAME_FULL_1_FEMALE]. [BAND_NAME] released another album, To Find Me Gone, on DiCristina in [YEAR]. [PERSON_NAME_LAST_0] and [PERSON_NAME_LAST_2] also launched their own label, Gnomonsong Recordings, releasing [MONTH]a Hunter's Blank Unstaring Heirs of Doom in [YEAR] and There's No Home in [YEAR]. The label also released in [YEAR] [BAND_NAME]'s Thing of the Past,\", \"collection of cover songs that have influenced [PERSON_NAME_LAST_2]'s aesthetic. Sub Pop Records (US) and [PERSON_NAME_FULL_3_FEMALE] (UK) released [BAND_NAME]'s Tight Knit ([YEAR]) The Errant Charm ([YEAR]), and Complete Strangers ([YEAR]).\\nThe band shared the bill with Vashti Bunyan on her US tour in early [YEAR]. Over the years, the band has toured with artists like Fleet Foxes, The Shins, Fruit Bats and Wilco.\\n\"]\n",
      "American folk\n",
      "120\n",
      "['[BAND_NAME] is', 'American shoegaze band from the San Francisco Bay Area. The group formed in [YEAR], originally as Whirl, but had to legally change its name after', 'woman performing acoustic covers of Black Sabbath songs trademarked the name and threatened', \"lawsuit. [BAND_NAME]'s shoegaze sound is often compared to My Bloody Valentine and Slowdive. Founding guitarist [PERSON_NAME_FULL_1_MALE] also played in the band Deafheaven surrounding and including the release of their [YEAR] album Roads to Judah.\\n[BAND_NAME] self-released\", 'demo cassette and the EP Distressor before signing to Tee Pee Records in [YEAR]. The band released [MONTH] that year, followed by their [YEAR] debut album, Pipe Dreams. The latter was met with', 'generally positive reception from music critics.\\n[BAND_NAME] released the Around EP on [MONTH] 9, [YEAR], and toured to support it that [MONTH] with the band Nothing. As', 'result of touring together, members of Nothing and [BAND_NAME] formed', 'side project called Death of Lovers, and [BAND_NAME] and Nothing released', 'split EP. [PERSON_NAME_LAST_1] then joined Nothing on bass and toured with them. [PERSON_NAME_LAST_1] also started', 'new indie pop project with former [BAND_NAME] vocalist [PERSON_NAME_FULL_0_FEMALE] called Camera Shy, while guitarist [PERSON_NAME_FULL_2_MALE] joined Best Coast.\\n']\n",
      "American shoegaze\n",
      "['[BAND_NAME] was', \"[PERSON_NAME_FULL_1_FEMALE]-based alternative rock band, who released six albums in the [YEAR]s and [YEAR]s.\\nThe band was originally formed as the Renegades in [MONTH] [YEAR] in [PERSON_NAME_FULL_1_FEMALE]; its members had met while attending [PERSON_NAME_FULL_1_FEMALE] State University. The original lineup featured Kevin Hunter (vocals, guitar), [PERSON_NAME_FULL_2_MALE] (vocals, guitar), [PERSON_NAME_FULL_3_MALE] (bass guitar, vocals) and Federico Gil-Sola (drums). [PERSON_NAME_LAST_3] had previously played with the Swedish bands Motvind and Gary T'To Band.\\nIn [MONTH] [YEAR], [BAND_NAME] signed to the local 415 Records label, also home to acts like Translator, Red Rockers and [PERSON_NAME_FULL_0_MALE], all of which found themselves with national distribution when 415 entered into\", 'deal with Columbia Records.\\n']\n",
      "[PERSON_NAME_FULL_1_FEMALE]-based alternative rock\n",
      "['[BAND_NAME] (pronounced \"ships\") is', 'American experimental and psychedelic rock band from San Francisco, California.\\nTheir sound has been described as experimental, minimalist, drone rock, and \"spacey psychedelic rock\". They have been compared to Suicide, Spacemen 3, \\nLoop, The Velvet Underground, The Doors, Soft Machine, Guru Guru, The Black Angels and many more. They are signed to Thrill Jockey records.\\nGuitarist Ripley Johnson also plays in two side projects, including Moon Duo, formed in [YEAR] with [PERSON_NAME_FULL_0_FEMALE]. The project has released one EP and seven albums.\\n']\n",
      "American experimental and psychedelic rock\n",
      "['[BAND_NAME] was', '[PERSON_NAME_FULL_1_FEMALE]-based rock band that existed under various incarnations from [YEAR] until [YEAR]. Greil [MONTH]cus of the Village Voice described them as', '\"small-time [PERSON_NAME_FULL_1_FEMALE] combo that wears their defeated leftist politics on their sleeves and can open for the Mekons without letting you forget them when the headliners come on.\"\\nThe original line-up included frontman J. Neo ([MONTH]vin), bassist [PERSON_NAME_FULL_0_MALE] (formerly of SF\\'s The Cat Heads) and drummer Michael \"Mick\" Freeman. Neo offers this explanation of the band\\'s name: \"Still no agreement on', 'band name until Maati  sees', 'graffiti on', \"sidewalk in the Tenderloin reading 'XTAL.' No one hates it; it grows on you. Somewhere along the line\", 'hyphen is added to make it easier to pronounce, but for the next 13 years, confusion ensues as to whether the letter \\'t\\' is capitalized. (It\\'s not.)\"\\nThe trio\\'s first two gigs were at [PERSON_NAME_FULL_1_FEMALE]\\'s On Broadway in late [YEAR]. The band put out', 'demo in [YEAR], then broke up in [YEAR], with band members moving on to other projects.\\n']\n",
      "[PERSON_NAME_FULL_1_FEMALE]-based rock\n",
      "['[BAND_NAME] was', 'American deathcore band from Oakland, California, United States, formed in [YEAR]. The band was signed to Nuclear Blast and have released four full-length albums through the label. Their final album, This Is Where It Ends, was released on [MONTH] 26, [YEAR].\\n[BAND_NAME] are noted for being one of the earliest pioneering bands in the deathcore genre.\\n[BAND_NAME] was founded in [YEAR] from the former members of the San Francisco Bay Area bands Antagony, End of All, and Boof. The founding members were [PERSON_NAME_FULL_0_MALE], Ben Orum, [PERSON_NAME_FULL_2_MALE], Caysen Russo, and [PERSON_NAME_FULL_1_MALE]. The band released their demo in [YEAR] and caught the attention of Japanese label Amputated Vein Records. On [MONTH] 19, [YEAR], they released their debut album Hate, Malice, Revenge, which was re-released by Nuclear Blast in [YEAR]. In [YEAR], The Price of Existence was released, whose first single, \"Eradication,\" was made into', 'video and played on MTV2\\'s Headbanger\\'s Ball. A viral video of the song \"There Is No Business to Be Done On', 'Dead Planet\" set to the boy-band \\'N Sync\\'s video for \"Bye Bye Bye\" helped to garner', 'new fanbase for the band.\\n']\n",
      "American deathcore\n",
      "['[BAND_NAME] is', 'American punk rock band formed in [YEAR] in Oakland, California. When offered their first show, the group took their name from the block-long sign on the warehouse across the street. After playing at parties and smaller venues around the Bay Area for over', 'year, and undergoing several lineup changes, the band bought', \"van and embarked on their first tour of the US, lasting 32 days and covering 12,000 miles.\\nAfter returning from tour, [BAND_NAME] recorded their eponymous first album for [PERSON_NAME_FULL_0_MALE]'s New Disorder Records.\\nIn the spring of [YEAR], [BAND_NAME] signed to Lookout! and released Rogue's [MONTH] in [MONTH] [YEAR]. The recording process was intermittent, due to guitarist Ryan's initial diagnosis and early battle with leukemia. [YEAR] saw the band tour in both the U.S. and Canada, including appearances at South by Southwest and CMJ. Their third full-length, Jagged Thoughts followed in [YEAR].\\n\"]\n",
      "American punk rock\n",
      "['[BAND_NAME] is', 'American crossover thrash band from the San Francisco Bay Area. Their debut album, American Paranoia, is considered to be', 'early \"crossover\" between hardcore and thrash metal.\\nThe band was formed by [PERSON_NAME_FULL_0_MALE], Eric Smith and [PERSON_NAME_FULL_2_MALE] in early [YEAR], with Nick Koljian briefly on vocals. The lineup was changed with the addition of [PERSON_NAME_FULL_1_MALE] on vocals. This lineup played', \"number of initial shows at Ruthie's Inn, the New Method, the Mabuhay Gardens and other Bay Area venues. Several months later, [PERSON_NAME_FULL_1_MALE] was replaced by Andy Andersen on vocals and [PERSON_NAME_FIRST_0] [PERSON_NAME_LAST_4] joined as\", 'second guitarist. They shortly went into the studio to record the \"Dead Serious Demo\" in [YEAR]. The demo was recorded by [PERSON_NAME_FULL_3_MALE] at the Turk Street Practice Pad.\\nIn [YEAR] and [YEAR], [BAND_NAME] played frequent gigs throughout California. They played alongside bands such as Forbidden (Known as Forbidden Evil at that time), Vio-lence, Sacrilege, Possessed, Hirax, Death Angel, R.K.L., Dr. Know, Suicidal Tendencies, Corrosion of Conformity, D.R.I., Discharge, UK Subs, Neurosis, The Exploited and Operation Ivy, among others. The band finally released their debut album, American Paranoia, released by Pusmort Records, is considered to be', 'early \"crossover\" between hardcore punk and thrash metal.\\n']\n",
      "American crossover thrash\n",
      "['[BAND_NAME] is', 'American crossover thrash band from the San Francisco Bay Area. Their debut album, American Paranoia, is considered to be', 'early \"crossover\" between hardcore and thrash metal.\\nThe band was formed by [PERSON_NAME_FULL_0_MALE], Eric Smith and [PERSON_NAME_FULL_2_MALE] in early [YEAR], with Nick Koljian briefly on vocals. The lineup was changed with the addition of [PERSON_NAME_FULL_1_MALE] on vocals. This lineup played', \"number of initial shows at Ruthie's Inn, the New Method, the Mabuhay Gardens and other Bay Area venues. Several months later, [PERSON_NAME_FULL_1_MALE] was replaced by Andy Andersen on vocals and [PERSON_NAME_FIRST_0] [PERSON_NAME_LAST_4] joined as\", 'second guitarist. They shortly went into the studio to record the \"Dead Serious Demo\" in [YEAR]. The demo was recorded by [PERSON_NAME_FULL_3_MALE] at the Turk Street Practice Pad.\\nIn [YEAR] and [YEAR], [BAND_NAME] played frequent gigs throughout California. They played alongside bands such as Forbidden (Known as Forbidden Evil at that time), Vio-lence, Sacrilege, Possessed, Hirax, Death Angel, R.K.L., Dr. Know, Suicidal Tendencies, Corrosion of Conformity, D.R.I., Discharge, UK Subs, Neurosis, The Exploited and Operation Ivy, among others. The band finally released their debut album, American Paranoia, released by Pusmort Records, is considered to be', 'early \"crossover\" between hardcore punk and thrash metal.\\n']\n",
      "American crossover thrash\n",
      "129\n",
      "130\n",
      "131\n",
      "132\n",
      "133\n",
      "134\n",
      "135\n",
      "136\n",
      "137\n",
      "138\n",
      "139\n",
      "140\n",
      "141\n",
      "142\n",
      "143\n",
      "['[BAND_NAME] is', 'American punk rock band from Oakland, California, United States, that released three albums on Jello Biafra\\'s Alternative Tentacles, Kill the Dreamer\\'s Dream, The Sicilian, and Scrape the Walls. [BAND_NAME] have also released albums on Recess Records (\"Brown Flag\"), Adeline Records (\"The Futbol EP\"), Life is Abuse Records, Thrillhouse Records and S.P.A.M. Records, as well as singles, 7\" records and splits on', 'variety of labels. They are known for their outlandish stage presence, their left-wing politics and their non-stop world touring schedule from [YEAR]-[YEAR]. From their inception, they were', \"influential presence at events such as Geekfest, held in the late [YEAR]s, The Fest in Gainesville, Florida, and Wantage Records' Total Fest. As of [MONTH] [YEAR], the band released Introducing The [BAND_NAME] on Portland's Dirt Cult Records, its first album in ten years.\\nThis article on\", 'United States punk rock band is', 'stub. You can help Wikipedia by expanding it.']\n",
      "American punk rock\n",
      "['[BAND_NAME] was', 'thrash metal band from the San Francisco Bay Area, California. Formed in [YEAR] as [BAND_NAME] Evil, the group was founded by [PERSON_NAME_FULL_0_MALE] and guitarist [PERSON_NAME_FULL_3_MALE]. Since their formation, [BAND_NAME] have broken up and reformed twice with numerous line-up changes. The most recent line-up of the band was Russ Anderson (vocals), [PERSON_NAME_FULL_4_MALE] (guitar), Matt Camacho (bass), [PERSON_NAME_FULL_2_MALE] (guitar) and Sasha Horn (drums). After breaking up for the first time in [YEAR] and briefly returning in [YEAR], [BAND_NAME] reunited once again in [YEAR] but has been on', 'indefinite hiatus since [YEAR].\\nAlong with Death Angel, Vio-lence, Defiance, Testament and Exodus (the latter of the two had featured original [BAND_NAME] drummer Paul Bostaph), they were one of the most successful Bay Area thrash metal bands and earned', 'loyal fanbase in the underground music community and critical acclaim, with their debut album [BAND_NAME] Evil ([YEAR]) regarded by critics as', 'classic thrash metal album and the follow-up, Twisted into Form ([YEAR]), as something of', 'masterpiece within the “tech-thrash” genre. Their earlier style was technical thrash metal, but the band later experimented with alternative and groove metal elements on their fourth album Green ([YEAR]).\\n[BAND_NAME] Evil was formed in early [YEAR] by drummer [PERSON_NAME_FULL_0_MALE] and guitarist [PERSON_NAME_FULL_3_MALE] (later of Vio-lence and Machine Head), with the original lineup being completed by [PERSON_NAME_FULL_4_MALE] (guitar), Russ Anderson (vocals) and John Tegio (bass). [PERSON_NAME_LAST_3] named the band after', \"song by the Chicago band War Cry that was featured on the Metal Massacre 4 compilation.  They recorded demo tapes and appeared on the now-out-of-print live album The Eastern Front – Live At Ruthie's Inn. By [YEAR], [PERSON_NAME_FULL_0_MALE], John Tegio, and [PERSON_NAME_FULL_3_MALE] left the band and were replaced by Paul Bostaph (drums), Matt Camacho (bass) and [PERSON_NAME_FULL_1_MALE] (guitar). The band's name was shortened to [BAND_NAME] in order to prevent the band from being mistakenly perceived as\", 'black metal band.\\n']\n",
      "thrash metal\n"
     ]
    }
   ],
   "source": [
    "for i in range(1657):\n",
    "    try:\n",
    "        get_paragraph_placeholder('data/' + str(i) + '.json')\n",
    "    except:\n",
    "        print(i)"
   ]
  },
  {
   "cell_type": "code",
   "execution_count": null,
   "metadata": {},
   "outputs": [],
   "source": []
  }
 ],
 "metadata": {
  "kernelspec": {
   "name": "python3",
   "display_name": "Python 3.9.1 64-bit",
   "metadata": {
    "interpreter": {
     "hash": "9deb9d08d8292b8606771d1eedb1e38339c7234066fd2f225142374e386d42ca"
    }
   }
  },
  "language_info": {
   "codemirror_mode": {
    "name": "ipython",
    "version": 3
   },
   "file_extension": ".py",
   "mimetype": "text/x-python",
   "name": "python",
   "nbconvert_exporter": "python",
   "pygments_lexer": "ipython3",
   "version": "3.9.1-final"
  }
 },
 "nbformat": 4,
 "nbformat_minor": 2
}