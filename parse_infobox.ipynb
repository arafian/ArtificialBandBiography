{
 "cells": [
  {
   "cell_type": "code",
   "execution_count": 16,
   "metadata": {},
   "outputs": [],
   "source": [
    "from bs4 import Tag, NavigableString, BeautifulSoup\n",
    "from pprint import pprint\n",
    "import urllib\n",
    "import json\n",
    "import pandas"
   ]
  },
  {
   "cell_type": "code",
   "execution_count": 17,
   "metadata": {},
   "outputs": [],
   "source": [
    "colnames = ['url']\n",
    "data = pandas.read_csv('list_of_bands.csv', names=colnames)\n",
    "urls = data.url.tolist()"
   ]
  },
  {
   "cell_type": "code",
   "execution_count": 18,
   "metadata": {},
   "outputs": [],
   "source": [
    "\n",
    "# probably gonna delete this\n",
    "\n",
    "# def get_info_from_cell(cell):\n",
    "#     cell_info = ['']\n",
    "#     for element in cell.contents:\n",
    "#         if isinstance(element, NavigableString):\n",
    "#             cell_info[-1] += str(element)\n",
    "#         elif element.name == 'br':\n",
    "#             cell_info.append('')\n",
    "#         else:\n",
    "#             cell_info[-1] += str(element.text)        \n",
    "    \n",
    "#     return cell_info"
   ]
  },
  {
   "cell_type": "code",
   "execution_count": 19,
   "metadata": {},
   "outputs": [],
   "source": [
    "def get_info_from_cell(cell):\n",
    "    cell_info = cell.text.split('\\n')\n",
    "    return [s for s in cell_info if s != '']"
   ]
  },
  {
   "cell_type": "code",
   "execution_count": 20,
   "metadata": {},
   "outputs": [],
   "source": [
    "def parse_infobox(soup):\n",
    "    \n",
    "    infobox_dict = {}\n",
    "\n",
    "    infobox_rows = soup.find(\"table\", {\"class\": \"infobox\"}).tbody.contents\n",
    "    for row in infobox_rows:\n",
    "        if len(row.contents) != 2:\n",
    "            continue\n",
    "        cell_1 = row.contents[0]\n",
    "        cell_2 = row.contents[1]\n",
    "        if cell_1.name != \"th\" or cell_2.name != \"td\":\n",
    "            continue\n",
    "\n",
    "        infobox_dict[cell_1.text] = get_info_from_cell(cell_2)\n",
    "    \n",
    "    return infobox_dict"
   ]
  },
  {
   "cell_type": "code",
   "execution_count": 22,
   "metadata": {},
   "outputs": [],
   "source": [
    "fileNum = 0\n",
    "for url in urls:\n",
    "    html_doc = urllib.request.urlopen(url).read()\n",
    "    soup = BeautifulSoup(html_doc, 'html.parser')\n",
    "    with open('./data/info-'+str(fileNum)+'.json', 'w', encoding=\"utf-8\") as outfile:\n",
    "        try:\n",
    "            json.dump(parse_infobox(soup), outfile, indent = 3, ensure_ascii = False)\n",
    "        except:\n",
    "            continue\n",
    "        \n",
    "    fileNum += 1"
   ]
  }
 ],
 "metadata": {
  "kernelspec": {
   "display_name": "Python 3",
   "language": "python",
   "name": "python3"
  },
  "language_info": {
   "codemirror_mode": {
    "name": "ipython",
    "version": 3
   },
   "file_extension": ".py",
   "mimetype": "text/x-python",
   "name": "python",
   "nbconvert_exporter": "python",
   "pygments_lexer": "ipython3",
   "version": "3.8.2"
  }
 },
 "nbformat": 4,
 "nbformat_minor": 5
}
