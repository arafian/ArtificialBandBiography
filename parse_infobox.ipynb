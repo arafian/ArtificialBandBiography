{
 "cells": [
  {
   "cell_type": "code",
   "execution_count": 14,
   "id": "guilty-volume",
   "metadata": {},
   "outputs": [],
   "source": [
    "from bs4 import Tag, NavigableString, BeautifulSoup\n",
    "from pprint import pprint\n",
    "import urllib"
   ]
  },
  {
   "cell_type": "code",
   "execution_count": 94,
   "id": "technological-cassette",
   "metadata": {},
   "outputs": [],
   "source": [
    "html_doc = urllib.request.urlopen(\"https://en.wikipedia.org/wiki/Guns_N%27_Roses\").read()\n",
    "# html_doc = urllib.request.urlopen(\"https://en.wikipedia.org/wiki/The_Beatles\").read()\n",
    "# html_doc = urllib.request.urlopen(\"https://en.wikipedia.org/wiki/The_Action_Design\").read()\n",
    "\n",
    "soup = BeautifulSoup(html_doc, 'html.parser')"
   ]
  },
  {
   "cell_type": "code",
   "execution_count": 95,
   "id": "virgin-excess",
   "metadata": {},
   "outputs": [],
   "source": [
    "\n",
    "# probably gonna delete this\n",
    "\n",
    "# def get_info_from_cell(cell):\n",
    "#     cell_info = ['']\n",
    "#     for element in cell.contents:\n",
    "#         if isinstance(element, NavigableString):\n",
    "#             cell_info[-1] += str(element)\n",
    "#         elif element.name == 'br':\n",
    "#             cell_info.append('')\n",
    "#         else:\n",
    "#             cell_info[-1] += str(element.text)        \n",
    "    \n",
    "#     return cell_info"
   ]
  },
  {
   "cell_type": "code",
   "execution_count": 96,
   "id": "incoming-rings",
   "metadata": {},
   "outputs": [],
   "source": [
    "def get_info_from_cell(cell):\n",
    "    cell_info = cell.text.split('\\n')\n",
    "    return [s for s in cell_info if s != '']\n",
    "    "
   ]
  },
  {
   "cell_type": "code",
   "execution_count": 97,
   "id": "dimensional-juvenile",
   "metadata": {},
   "outputs": [
    {
     "name": "stdout",
     "output_type": "stream",
     "text": [
      "{'Also known as': [\"G N' R, GNR\"],\n",
      " 'Associated acts': ['BulletBoys',\n",
      "                     'the Dead Daisies',\n",
      "                     'Hollywood Rose',\n",
      "                     'Johnny Crash',\n",
      "                     'Kings of Chaos',\n",
      "                     'L.A. Guns',\n",
      "                     'Love Spit Love',\n",
      "                     'Metallica',\n",
      "                     'Neurotic Outsiders',\n",
      "                     'Nine Inch Nails',\n",
      "                     'Praxis',\n",
      "                     'Primus',\n",
      "                     'The Psychedelic Furs',\n",
      "                     'the Replacements',\n",
      "                     'Road Crew',\n",
      "                     \"Slash's Snakepit\",\n",
      "                     'Velvet Revolver'],\n",
      " 'Genres': ['Hard rock', 'heavy metal'],\n",
      " 'Labels': ['Geffen', 'UMG', 'Uzi Suicide', 'Black Frog'],\n",
      " 'Members': ['Axl Rose',\n",
      "             'Duff McKagan',\n",
      "             'Slash',\n",
      "             'Dizzy Reed',\n",
      "             'Richard Fortus',\n",
      "             'Frank Ferrer',\n",
      "             'Melissa Reese'],\n",
      " 'Origin': ['Los Angeles, California, U.S.'],\n",
      " 'Past members': [\"See: List of Guns N' Roses band members\"],\n",
      " 'Website': ['gunsnroses.com'],\n",
      " 'Years active': ['1985–present']}\n"
     ]
    }
   ],
   "source": [
    "infobox_dict = {}\n",
    "\n",
    "infobox_rows = soup.find(\"table\", {\"class\": \"infobox\"}).tbody.contents\n",
    "for row in infobox_rows:\n",
    "    if len(row.contents) != 2:\n",
    "        continue\n",
    "    cell_1 = row.contents[0]\n",
    "    cell_2 = row.contents[1]\n",
    "    if cell_1.name != \"th\" or cell_2.name != \"td\":\n",
    "        continue\n",
    "\n",
    "    infobox_dict[cell_1.text] = get_info_from_cell(cell_2)\n",
    "    \n",
    "pprint(infobox_dict)\n"
   ]
  },
  {
   "cell_type": "code",
   "execution_count": null,
   "id": "employed-benjamin",
   "metadata": {},
   "outputs": [],
   "source": []
  }
 ],
 "metadata": {
  "kernelspec": {
   "display_name": "Python 3",
   "language": "python",
   "name": "python3"
  },
  "language_info": {
   "codemirror_mode": {
    "name": "ipython",
    "version": 3
   },
   "file_extension": ".py",
   "mimetype": "text/x-python",
   "name": "python",
   "nbconvert_exporter": "python",
   "pygments_lexer": "ipython3",
   "version": "3.7.3"
  }
 },
 "nbformat": 4,
 "nbformat_minor": 5
}
