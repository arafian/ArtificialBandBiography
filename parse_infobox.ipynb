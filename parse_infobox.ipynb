{
 "cells": [
  {
   "cell_type": "code",
   "execution_count": 100,
   "id": "accepted-queens",
   "metadata": {},
   "outputs": [],
   "source": [
    "from bs4 import Tag, NavigableString, BeautifulSoup\n",
    "from pprint import pprint\n",
    "import urllib"
   ]
  },
  {
   "cell_type": "code",
   "execution_count": 253,
   "id": "israeli-orleans",
   "metadata": {},
   "outputs": [],
   "source": [
    "# html_doc = urllib.request.urlopen(\"https://en.wikipedia.org/wiki/Guns_N%27_Roses\").read()\n",
    "# html_doc = urllib.request.urlopen(\"https://en.wikipedia.org/wiki/The_Beatles\").read()\n",
    "# html_doc = urllib.request.urlopen(\"https://en.wikipedia.org/wiki/The_Action_Design\").read()\n",
    "html_doc = urllib.request.urlopen(\"https://en.wikipedia.org/wiki/Babes_in_Toyland_(band)\").read()\n",
    "\n",
    "soup = BeautifulSoup(html_doc, 'html.parser')"
   ]
  },
  {
   "cell_type": "code",
   "execution_count": 254,
   "id": "polyphonic-twenty",
   "metadata": {},
   "outputs": [],
   "source": [
    "def get_info_from_cell(cell):\n",
    "    \n",
    "    # if the cell contains a <ul> tag then extracting the info as an array is simple\n",
    "    if cell.find('ul'):\n",
    "        return list(map(lambda e: e.text, cell.find('ul').find_all('li')))\n",
    "    \n",
    "    # if the cell does not contain a <ul> tag, then do the following\n",
    "    \n",
    "    # split the text in the cell by <br/> tags\n",
    "    cell_info = ['']\n",
    "    for element in cell.contents:\n",
    "        if isinstance(element, NavigableString):\n",
    "            cell_info[-1] += str(element)\n",
    "        elif element.name == 'br':\n",
    "            cell_info.append('')\n",
    "        else:\n",
    "            cell_info[-1] += str(element.text)        \n",
    "    \n",
    "    # further split the text by newline characters\n",
    "    cell_info_2 = []\n",
    "    for string in cell_info:\n",
    "        cell_info_2 += string.split('\\n')\n",
    "    \n",
    "    # remove any empty strings\n",
    "    cell_info_3 = [s for s in cell_info_2 if s != '']\n",
    "    \n",
    "    return cell_info_3"
   ]
  },
  {
   "cell_type": "code",
   "execution_count": 255,
   "id": "remarkable-marathon",
   "metadata": {},
   "outputs": [],
   "source": [
    "def parse_infobox(soup):\n",
    "    \n",
    "    infobox_dict = {}\n",
    "\n",
    "    infobox_rows = soup.find(\"table\", {\"class\": \"infobox\"}).tbody.contents\n",
    "    for row in infobox_rows:\n",
    "        if len(row.contents) != 2:\n",
    "            continue\n",
    "        cell_1 = row.contents[0]\n",
    "        cell_2 = row.contents[1]\n",
    "        if cell_1.name != \"th\" or cell_2.name != \"td\":\n",
    "            continue\n",
    "\n",
    "        infobox_dict[cell_1.text] = get_info_from_cell(cell_2)\n",
    "    \n",
    "    return infobox_dict"
   ]
  },
  {
   "cell_type": "code",
   "execution_count": 256,
   "id": "ignored-composite",
   "metadata": {},
   "outputs": [
    {
     "name": "stdout",
     "output_type": "stream",
     "text": [
      "{'Associated acts': ['Sugar Babydoll',\n",
      "                     'Pagan Babies',\n",
      "                     'Italian Whorenuns',\n",
      "                     'Crunt',\n",
      "                     'Koalas',\n",
      "                     'Katastrophy Wife'],\n",
      " 'Genres': ['Alternative rock[1]', 'punk rock[2]', 'post-punk[3]'],\n",
      " 'Labels': ['Twin Tone', 'Southern', 'Strange Fruit', 'Reprise', 'Insipid'],\n",
      " 'Members': ['Kat Bjelland', 'Lori Barbero', ' Clara Salyer'],\n",
      " 'Origin': ['Minneapolis, Minnesota, U.S.'],\n",
      " 'Past members': ['Maureen Herman',\n",
      "                  ' Michelle Leon',\n",
      "                  'Chris Holetz',\n",
      "                  'Cindy Russell',\n",
      "                  'Dana Cochrane',\n",
      "                  'Jessie Farmer'],\n",
      " 'Years active': ['1987–2001; 2014–2020']}\n"
     ]
    }
   ],
   "source": [
    "pprint(parse_infobox(soup))"
   ]
  },
  {
   "cell_type": "code",
   "execution_count": null,
   "id": "cleared-protein",
   "metadata": {},
   "outputs": [],
   "source": []
  }
 ],
 "metadata": {
  "kernelspec": {
   "display_name": "Python 3",
   "language": "python",
   "name": "python3"
  },
  "language_info": {
   "codemirror_mode": {
    "name": "ipython",
    "version": 3
   },
   "file_extension": ".py",
   "mimetype": "text/x-python",
   "name": "python",
   "nbconvert_exporter": "python",
   "pygments_lexer": "ipython3",
   "version": "3.7.3"
  }
 },
 "nbformat": 4,
 "nbformat_minor": 5
}
