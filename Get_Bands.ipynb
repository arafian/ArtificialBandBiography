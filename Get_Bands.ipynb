{
  "nbformat": 4,
  "nbformat_minor": 0,
  "metadata": {
    "colab": {
      "name": "Get Bands.ipynb",
      "provenance": [],
      "collapsed_sections": []
    },
    "kernelspec": {
      "name": "python3",
      "display_name": "Python 3"
    }
  },
  "cells": [
    {
      "cell_type": "code",
      "metadata": {
        "id": "elWzmXawVqZb"
      },
      "source": [
        "import requests\r\n",
        "from bs4 import BeautifulSoup\r\n",
        "import pandas as pd\r\n",
        "import sys\r\n",
        "import re\r\n",
        "\r\n",
        "response = requests.get(url=\"https://en.wikipedia.org/wiki/Category:Lists_of_bands\")\r\n",
        "soup = BeautifulSoup(response.content, 'html.parser')\r\n",
        "\r\n",
        "div = soup.find(id='mw-pages')\r\n",
        "links = div.findAll('a')\r\n",
        "neg_kw = {'#', 'artist', 'musician', 'type', 'name', 'performer'}\r\n",
        "pos_kw = {'band'}\r\n",
        "res = []\r\n",
        "for a in links:\r\n",
        "    link = 'https://en.wikipedia.org' + a['href']\r\n",
        "    good_link = True\r\n",
        "    for n in neg_kw:\r\n",
        "        if n in link:\r\n",
        "            good_link = False\r\n",
        "            break\r\n",
        "            \r\n",
        "    for p in pos_kw:\r\n",
        "        if p not in link:\r\n",
        "            good_link = False\r\n",
        "            break\r\n",
        "     \r\n",
        "    if good_link:\r\n",
        "        res.append(link)"
      ],
      "execution_count": 1,
      "outputs": []
    },
    {
      "cell_type": "code",
      "metadata": {
        "colab": {
          "base_uri": "https://localhost:8080/"
        },
        "id": "oRxj1vB_VvfZ",
        "outputId": "d278e62b-e78f-4bc1-cb69-1245dabd4995"
      },
      "source": [
        "print(res)"
      ],
      "execution_count": 2,
      "outputs": [
        {
          "output_type": "stream",
          "text": [
            "['https://en.wikipedia.org/wiki/List_of_American_grunge_bands', 'https://en.wikipedia.org/wiki/List_of_bands_from_the_San_Francisco_Bay_Area', 'https://en.wikipedia.org/wiki/List_of_biker_metal_bands', 'https://en.wikipedia.org/wiki/List_of_bluegrass_bands', 'https://en.wikipedia.org/wiki/List_of_bands_from_British_Columbia', 'https://en.wikipedia.org/wiki/List_of_Chicago_hardcore_punk_bands', 'https://en.wikipedia.org/wiki/List_of_Christian_rock_bands', 'https://en.wikipedia.org/wiki/List_of_bands_that_played_at_Dagenham_Roundhouse', 'https://en.wikipedia.org/wiki/List_of_bands_from_Delhi', 'https://en.wikipedia.org/wiki/List_of_experimental_big_bands', 'https://en.wikipedia.org/wiki/List_of_extreme_metal_bands', 'https://en.wikipedia.org/wiki/List_of_all-female_bands', 'https://en.wikipedia.org/wiki/List_of_bands_from_Glasgow', 'https://en.wikipedia.org/wiki/List_of_bands_from_Gothenburg', 'https://en.wikipedia.org/wiki/List_of_grunge_bands', 'https://en.wikipedia.org/wiki/List_of_instrumental_bands', 'https://en.wikipedia.org/wiki/List_of_jam_bands', 'https://en.wikipedia.org/wiki/List_of_Jewish_rock_bands', 'https://en.wikipedia.org/wiki/List_of_Klezmer_bands', 'https://en.wikipedia.org/wiki/List_of_bands_from_Goa', 'https://en.wikipedia.org/wiki/List_of_bands_from_Lincoln,_Nebraska', 'https://en.wikipedia.org/wiki/List_of_bands_from_Los_Angeles', 'https://en.wikipedia.org/wiki/List_of_punk_bands_from_the_United_Kingdom', 'https://en.wikipedia.org/wiki/List_of_Neue_Deutsche_H%C3%A4rte_bands', 'https://en.wikipedia.org/wiki/List_of_bands_formed_in_New_York_City', 'https://en.wikipedia.org/wiki/List_of_Pakistani_music_bands', 'https://en.wikipedia.org/wiki/List_of_pipe_bands', 'https://en.wikipedia.org/wiki/List_of_post-punk_bands', 'https://en.wikipedia.org/wiki/List_of_bands_associated_with_Ringo_Sheena', 'https://en.wikipedia.org/wiki/List_of_bands_from_Spain', 'https://en.wikipedia.org/wiki/List_of_bands_from_Taiwan']\n"
          ],
          "name": "stdout"
        }
      ]
    },
    {
      "cell_type": "code",
      "metadata": {
        "id": "EsjOKyKEV2AL"
      },
      "source": [
        "bands = []\r\n",
        "for lst in res:\r\n",
        "  try:\r\n",
        "    url = lst\r\n",
        "  except:\r\n",
        "    exit()\r\n",
        "\r\n",
        "  response = requests.get(url)\r\n",
        "  soup = BeautifulSoup(response.content, \"html.parser\")\r\n",
        "\r\n",
        "  for a in soup.find_all(\"a\", href=True):\r\n",
        "    if a['href'][:6] == \"/wiki/\" and not \":\" in a['href']:\r\n",
        "      suburl = \"https://en.wikipedia.org\" + a['href']\r\n",
        "      subresponse = requests.get(suburl)\r\n",
        "      subsoup = BeautifulSoup(subresponse.content, \"html.parser\")\r\n",
        "      first_sentence = subsoup.select(\"p\")[0].getText().split(\".\")[0]\r\n",
        "      if re.search(r'\\bband\\b', first_sentence) and not re.search(r'\\balbum\\b', first_sentence):\r\n",
        "        bands.append(suburl)"
      ],
      "execution_count": 3,
      "outputs": []
    },
    {
      "cell_type": "code",
      "metadata": {
        "colab": {
          "base_uri": "https://localhost:8080/",
          "height": 17
        },
        "id": "Z6CTZZ2cWroj",
        "outputId": "99ef91f5-b777-42e0-f7d6-382ba028ca92"
      },
      "source": [
        "pd.DataFrame(bands).to_csv('list_of_bands.csv', index = False, header = False)\r\n",
        "from google.colab import files\r\n",
        "files.download('list_of_bands.csv')\r\n"
      ],
      "execution_count": 4,
      "outputs": [
        {
          "output_type": "display_data",
          "data": {
            "application/javascript": [
              "\n",
              "    async function download(id, filename, size) {\n",
              "      if (!google.colab.kernel.accessAllowed) {\n",
              "        return;\n",
              "      }\n",
              "      const div = document.createElement('div');\n",
              "      const label = document.createElement('label');\n",
              "      label.textContent = `Downloading \"${filename}\": `;\n",
              "      div.appendChild(label);\n",
              "      const progress = document.createElement('progress');\n",
              "      progress.max = size;\n",
              "      div.appendChild(progress);\n",
              "      document.body.appendChild(div);\n",
              "\n",
              "      const buffers = [];\n",
              "      let downloaded = 0;\n",
              "\n",
              "      const channel = await google.colab.kernel.comms.open(id);\n",
              "      // Send a message to notify the kernel that we're ready.\n",
              "      channel.send({})\n",
              "\n",
              "      for await (const message of channel.messages) {\n",
              "        // Send a message to notify the kernel that we're ready.\n",
              "        channel.send({})\n",
              "        if (message.buffers) {\n",
              "          for (const buffer of message.buffers) {\n",
              "            buffers.push(buffer);\n",
              "            downloaded += buffer.byteLength;\n",
              "            progress.value = downloaded;\n",
              "          }\n",
              "        }\n",
              "      }\n",
              "      const blob = new Blob(buffers, {type: 'application/binary'});\n",
              "      const a = document.createElement('a');\n",
              "      a.href = window.URL.createObjectURL(blob);\n",
              "      a.download = filename;\n",
              "      div.appendChild(a);\n",
              "      a.click();\n",
              "      div.remove();\n",
              "    }\n",
              "  "
            ],
            "text/plain": [
              "<IPython.core.display.Javascript object>"
            ]
          },
          "metadata": {
            "tags": []
          }
        },
        {
          "output_type": "display_data",
          "data": {
            "application/javascript": [
              "download(\"download_b53b6ecb-7bfc-4f89-a169-d87f16d59d87\", \"list_of_bands.csv\", 76303)"
            ],
            "text/plain": [
              "<IPython.core.display.Javascript object>"
            ]
          },
          "metadata": {
            "tags": []
          }
        }
      ]
    }
  ]
}