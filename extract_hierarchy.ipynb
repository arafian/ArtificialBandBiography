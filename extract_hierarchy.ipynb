{
 "cells": [
  {
   "cell_type": "code",
   "execution_count": 135,
   "id": "fresh-marker",
   "metadata": {},
   "outputs": [],
   "source": [
    "from bs4 import BeautifulSoup\n",
    "import pprint\n",
    "import urllib\n"
   ]
  },
  {
   "cell_type": "code",
   "execution_count": 136,
   "id": "regional-radius",
   "metadata": {},
   "outputs": [],
   "source": [
    "html_doc = urllib.request.urlopen(\"https://en.wikipedia.org/wiki/Guns_N%27_Roses\").read()\n",
    "soup = BeautifulSoup(html_doc, 'html.parser')"
   ]
  },
  {
   "cell_type": "code",
   "execution_count": 137,
   "id": "handmade-aside",
   "metadata": {},
   "outputs": [
    {
     "name": "stdout",
     "output_type": "stream",
     "text": [
      "[{'History': ['Formation (1985–1986)',\n",
      "              {'Breakthrough and mass popularity (1987–1989)': ['Appetite for Destruction', \"G N' R Lies\"]},\n",
      "              {'International success and band turmoil (1990–1993)': ['Use Your Illusion I and II', 'Use Your Illusion Tour', '\"The Spaghetti Incident?\"']},\n",
      "              'Lineup changes and sporadic activity (1994–1999)',\n",
      "              {'New lineups and Chinese Democracy (1999–2008)': ['Background of new album',\n",
      "                                                                 'Title announcement and touring, tour cancellation and member departures',\n",
      "                                                                 'Greatest Hits and label conflict, lawsuits',\n",
      "                                                                 'Lineup changes and resuming tour',\n",
      "                                                                 'Album release and promotion']},\n",
      "              {'Rock and Roll Hall of Fame induction and Appetite for Democracy (2009–2014)': ['Rock and Roll Hall of Fame induction',\n",
      "                                                                                               'Up Close and Personal and Appetite for Democracy tours',\n",
      "                                                                                               'Progress on a follow up to Chinese Democracy']},\n",
      "              {'Slash and McKagan rejoin, tour, and future (2015–present)': ['Not In This Lifetime...  Tour',\n",
      "                                                                             'Appetite for Destruction remaster',\n",
      "                                                                             '2020 Stadium Tour and future']}]},\n",
      " 'Legacy, style, influence, and criticism',\n",
      " {'Members': ['Current', 'Former']},\n",
      " 'Awards and nominations',\n",
      " {'Discography': ['Studio albums']},\n",
      " 'Tours',\n",
      " 'References',\n",
      " 'Bibliography',\n",
      " 'External links']\n"
     ]
    }
   ],
   "source": [
    "# print(soup.prettify())\n",
    "toc_html = soup.find(id=\"toc\").find('ul')\n",
    "def extract_hierarchy(toc_html):\n",
    "    hierarchy = []\n",
    "    for element in toc_html.contents:\n",
    "        if element.name != 'li':\n",
    "            continue\n",
    "        list_element_name = element.find('span', {\"class\": \"toctext\"}).text\n",
    "        child_ul = element.find('ul')\n",
    "        if child_ul:\n",
    "            list_element_children = extract_hierarchy(child_ul)\n",
    "            hierarchy.append({list_element_name: list_element_children})\n",
    "        else:\n",
    "            hierarchy.append(list_element_name)\n",
    "    return hierarchy\n",
    "hierarchy = extract_hierarchy(toc_html)\n",
    "pprint.pprint(hierarchy, width=160)"
   ]
  },
  {
   "cell_type": "code",
   "execution_count": null,
   "id": "distinguished-jackson",
   "metadata": {},
   "outputs": [],
   "source": []
  }
 ],
 "metadata": {
  "kernelspec": {
   "display_name": "Python 3",
   "language": "python",
   "name": "python3"
  },
  "language_info": {
   "codemirror_mode": {
    "name": "ipython",
    "version": 3
   },
   "file_extension": ".py",
   "mimetype": "text/x-python",
   "name": "python",
   "nbconvert_exporter": "python",
   "pygments_lexer": "ipython3",
   "version": "3.7.3"
  }
 },
 "nbformat": 4,
 "nbformat_minor": 5
}
