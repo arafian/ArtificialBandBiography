{
 "cells": [
  {
   "cell_type": "code",
   "execution_count": 2,
   "id": "comfortable-chapter",
   "metadata": {},
   "outputs": [],
   "source": [
    "from bs4 import BeautifulSoup\n",
    "import pprint\n",
    "import urllib\n"
   ]
  },
  {
   "cell_type": "code",
   "execution_count": 3,
   "id": "representative-twist",
   "metadata": {},
   "outputs": [],
   "source": [
    "# html_doc = urllib.request.urlopen(\"https://en.wikipedia.org/wiki/Guns_N%27_Roses\").read()\n",
    "html_doc = urllib.request.urlopen(\"https://en.wikipedia.org/wiki/The_Beatles\").read()\n",
    "\n",
    "soup = BeautifulSoup(html_doc, 'html.parser')"
   ]
  },
  {
   "cell_type": "code",
   "execution_count": 4,
   "id": "arbitrary-smooth",
   "metadata": {},
   "outputs": [
    {
     "name": "stdout",
     "output_type": "stream",
     "text": [
      "[{'History': ['1957–1963: Formation, Hamburg, and UK popularity',\n",
      "              {'1963–1966: Beatlemania and touring years': ['Please Please Me and With the Beatles',\n",
      "                                                            'First visit to the United States and the British Invasion',\n",
      "                                                            \"A Hard Day's Night\",\n",
      "                                                            '1964 world tour, meeting Bob Dylan, and stand on civil rights',\n",
      "                                                            'Beatles for Sale, Help! and Rubber Soul',\n",
      "                                                            'Controversies, Revolver and final tour']},\n",
      "              {'1966–1970: Studio years': [\"Sgt. Pepper's Lonely Hearts Club Band\",\n",
      "                                           'Magical Mystery Tour and Yellow Submarine',\n",
      "                                           'India retreat, Apple Corps and the White Album',\n",
      "                                           'Abbey Road, Let It Be and separation']},\n",
      "              {'1970–present: After the break-up': ['1970s', '1980s', '1990s', '2000s', '2010s', '2020s']}]},\n",
      " {'Musical style and development': ['Influences', 'Genres', 'Contribution of George Martin', 'In the studio']},\n",
      " 'Legacy',\n",
      " 'Awards and achievements',\n",
      " 'Personnel',\n",
      " 'Discography',\n",
      " 'Song catalogue',\n",
      " 'Selected filmography',\n",
      " 'Concert tours',\n",
      " 'Notes',\n",
      " 'Citations',\n",
      " 'Sources',\n",
      " 'Further reading',\n",
      " 'External links']\n"
     ]
    }
   ],
   "source": [
    "# print(soup.prettify())\n",
    "toc_html = soup.find(id=\"toc\").find('ul')\n",
    "def extract_hierarchy(toc_html):\n",
    "    hierarchy = []\n",
    "    for element in toc_html.contents:\n",
    "        if element.name != 'li':\n",
    "            continue\n",
    "        list_element_name = element.find('span', {\"class\": \"toctext\"}).text\n",
    "        child_ul = element.find('ul')\n",
    "        if child_ul:\n",
    "            list_element_children = extract_hierarchy(child_ul)\n",
    "            hierarchy.append({list_element_name: list_element_children})\n",
    "        else:\n",
    "            hierarchy.append(list_element_name)\n",
    "    return hierarchy\n",
    "hierarchy = extract_hierarchy(toc_html)\n",
    "pprint.pprint(hierarchy, width=160)"
   ]
  },
  {
   "cell_type": "code",
   "execution_count": null,
   "id": "premium-transcription",
   "metadata": {},
   "outputs": [],
   "source": []
  }
 ],
 "metadata": {
  "kernelspec": {
   "display_name": "Python 3",
   "language": "python",
   "name": "python3"
  },
  "language_info": {
   "codemirror_mode": {
    "name": "ipython",
    "version": 3
   },
   "file_extension": ".py",
   "mimetype": "text/x-python",
   "name": "python",
   "nbconvert_exporter": "python",
   "pygments_lexer": "ipython3",
   "version": "3.7.3"
  }
 },
 "nbformat": 4,
 "nbformat_minor": 5
}
