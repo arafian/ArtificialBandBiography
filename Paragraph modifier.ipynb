{
 "cells": [
  {
   "cell_type": "code",
   "execution_count": 15,
   "metadata": {},
   "outputs": [],
   "source": [
    "import json\n",
    "import re\n",
    "from datetime import datetime\n",
    "import random\n",
    "import nltk\n",
    "import pickle\n",
    "from nameparser.parser import HumanName\n",
    "from nltk.corpus import wordnet\n",
    "import names\n",
    "import gender_guesser.detector as gender"
   ]
  },
  {
   "cell_type": "markdown",
   "metadata": {},
   "source": [
    "## Read in and clean text"
   ]
  },
  {
   "cell_type": "code",
   "execution_count": 16,
   "metadata": {},
   "outputs": [
    {
     "name": "stdout",
     "output_type": "stream",
     "text": [
      "7 Year Bitch was an American punk rock band from Seattle, Washington. The band was active between 1990 and 1997 and released three albums over that time.The band formed at the same time as the emergence of the Riot Grrrl sub-genre, which is a sub-genre of punk music from the early to mid-1990s that emphasized the role of women in rock music. The Riot Grrrl movement began as a feminist response to the violence and misogyny that became more prominent in punk music in the mid to late 1980s, and 7 Year Bitch, an all female punk band, emerged as part of that sub-genre.\n",
      "7 Year Bitch was formed in 1990 by vocalist Selene Vigil, guitarist Stefanie Sargent, bassist Elizabeth Davis and drummer Valerie Agnew.  Vigil, Sargent, and Agnew had been playing together in the Seattle band Barbie's Dream Car when their bassist left for Europe. They subsequently recruited Davis and renamed their band after the movie The Seven Year Itch, based on a suggestion by their friend, Ben London, of fellow Seattle band, Alcohol Funnycar.\n",
      "At their first concert, the band opened for The Gits, who would prove to have a significant influence on their music. In 1991 the band released their first single \"Lorna\" and signed with C/Z Records. Their first album, Sick 'Em, was released in 1992, but it was overshadowed by Sargent's death on June 27, through passing out on her back after returning home from a party where she had drunk alcohol and taken a small amount of heroin. Following a period grieving and uncertainty, the band decided to continue, recruiting guitarist Roisin Dunne as Sargent's replacement later that year.\n",
      "In July 1993, Gits' frontwoman and longtime friend of the band Mia Zapata was raped and murdered while walking home late at night. This event, coupled with Sargent's death the previous year, had a profound effect on the group. As a reaction, the band recorded and released their second album Â¡Viva Zapata! (1994) in tribute to both of their fallen friends. During this time, Valerie Agnew also became one of the primary organizers and co-founders of the anti-violence and self-defence organisation Home Alive. On April 8, 1994, the band played a benefit show for Rock Against Domestic Violence at the Cameo Theatre on Miami Beach, alongside Babes in Toyland and Jack Off Jill.\n",
      "\n"
     ]
    }
   ],
   "source": [
    "with open('data/0.json', 'r') as f:\n",
    "    data = json.load(f)\n",
    "text = data['coreData']\n",
    "#data = data['History']['text']\n",
    "for i,p in enumerate(text):\n",
    "    text[i] = re.sub(\"[\\[].*?[\\]]\", \"\", p) # remove citations\n",
    "\n",
    "text = ''.join(text)\n",
    "print(text)"
   ]
  },
  {
   "cell_type": "markdown",
   "metadata": {},
   "source": [
    "## Replace Band Name"
   ]
  },
  {
   "cell_type": "code",
   "execution_count": 17,
   "metadata": {},
   "outputs": [],
   "source": [
    "with open('titles', 'rb') as inf:\n",
    "    titles = pickle.load(inf)"
   ]
  },
  {
   "cell_type": "code",
   "execution_count": 18,
   "metadata": {},
   "outputs": [],
   "source": [
    "determiners = []\n",
    "nouns = []\n",
    "adjectives = []\n",
    "for title in titles:\n",
    "    tagged_title = nltk.pos_tag(nltk.word_tokenize(title.lower()))\n",
    "    for tagged_word in tagged_title:\n",
    "        word = tagged_word[0]\n",
    "        pos = tagged_word[1]\n",
    "        if pos == 'DT':\n",
    "            determiners.append(word)\n",
    "        elif pos == 'NN' or pos == 'NNS':\n",
    "            nouns.append(word.capitalize())\n",
    "        elif pos == 'JJ':\n",
    "            adjectives.append(word.capitalize())"
   ]
  },
  {
   "cell_type": "code",
   "execution_count": 19,
   "metadata": {},
   "outputs": [],
   "source": [
    "def getRandName():\n",
    "    determiner = random.choice(determiners).capitalize()\n",
    "    [adjective1, adjective2] = random.sample(adjectives, 2)\n",
    "    [noun1, noun2] = random.sample(nouns, 2)\n",
    "\n",
    "    title_format = random.randrange(3)\n",
    "    if title_format == 0:\n",
    "        return determiner + ' ' + adjective1 + ' ' + noun1\n",
    "    elif title_format == 1:\n",
    "        return determiner + ' ' + adjective1 + ' ' + adjective2 + ' ' + noun1\n",
    "    elif title_format == 2:\n",
    "        return determiner + ' ' + noun1 + ' and ' + determiner + ' ' + noun2"
   ]
  },
  {
   "cell_type": "code",
   "execution_count": 20,
   "metadata": {},
   "outputs": [
    {
     "data": {
      "text/plain": [
       "'The Béla and The Effigies was an American punk rock band from Seattle, Washington. The band was active between 1990 and 1997 and released three albums over that time.The band formed at the same time as the emergence of the Riot Grrrl sub-genre, which is a sub-genre of punk music from the early to mid-1990s that emphasized the role of women in rock music. The Riot Grrrl movement began as a feminist response to the violence and misogyny that became more prominent in punk music in the mid to late 1980s, and The Béla and The Effigies, an all female punk band, emerged as part of that sub-genre.\\nThe Béla and The Effigies was formed in 1990 by vocalist Selene Vigil, guitarist Stefanie Sargent, bassist Elizabeth Davis and drummer Valerie Agnew.  Vigil, Sargent, and Agnew had been playing together in the Seattle band Barbie\\'s Dream Car when their bassist left for Europe. They subsequently recruited Davis and renamed their band after the movie The Seven Year Itch, based on a suggestion by their friend, Ben London, of fellow Seattle band, Alcohol Funnycar.\\nAt their first concert, the band opened for The Gits, who would prove to have a significant influence on their music. In 1991 the band released their first single \"Lorna\" and signed with C/Z Records. Their first album, Sick \\'Em, was released in 1992, but it was overshadowed by Sargent\\'s death on June 27, through passing out on her back after returning home from a party where she had drunk alcohol and taken a small amount of heroin. Following a period grieving and uncertainty, the band decided to continue, recruiting guitarist Roisin Dunne as Sargent\\'s replacement later that year.\\nIn July 1993, Gits\\' frontwoman and longtime friend of the band Mia Zapata was raped and murdered while walking home late at night. This event, coupled with Sargent\\'s death the previous year, had a profound effect on the group. As a reaction, the band recorded and released their second album Â¡Viva Zapata! (1994) in tribute to both of their fallen friends. During this time, Valerie Agnew also became one of the primary organizers and co-founders of the anti-violence and self-defence organisation Home Alive. On April 8, 1994, the band played a benefit show for Rock Against Domestic Violence at the Cameo Theatre on Miami Beach, alongside Babes in Toyland and Jack Off Jill.\\n'"
      ]
     },
     "execution_count": 20,
     "metadata": {},
     "output_type": "execute_result"
    }
   ],
   "source": [
    "band_name = data['Name']\n",
    "new_name = getRandName()\n",
    "text = re.sub(band_name, new_name, text)\n",
    "text"
   ]
  },
  {
   "cell_type": "markdown",
   "metadata": {},
   "source": [
    "## Replace Years"
   ]
  },
  {
   "cell_type": "code",
   "execution_count": 21,
   "metadata": {},
   "outputs": [],
   "source": [
    "def replace_years(s):\n",
    "    year_lower_bound = -20\n",
    "    year_upper_bound = datetime.now().year - max(list(map(int, re.findall(\"[0-9]{4}\", text))))\n",
    "    year_diff = random.randint(year_lower_bound, year_upper_bound)\n",
    "    return re.sub(\"[0-9]{4}\", lambda x: str(int(x.group()) + year_diff), text)"
   ]
  },
  {
   "cell_type": "code",
   "execution_count": 22,
   "metadata": {},
   "outputs": [
    {
     "name": "stdout",
     "output_type": "stream",
     "text": [
      "The Béla and The Effigies was an American punk rock band from Seattle, Washington. The band was active between 2001 and 2008 and released three albums over that time.The band formed at the same time as the emergence of the Riot Grrrl sub-genre, which is a sub-genre of punk music from the early to mid-2001s that emphasized the role of women in rock music. The Riot Grrrl movement began as a feminist response to the violence and misogyny that became more prominent in punk music in the mid to late 1991s, and The Béla and The Effigies, an all female punk band, emerged as part of that sub-genre.\n",
      "The Béla and The Effigies was formed in 2001 by vocalist Selene Vigil, guitarist Stefanie Sargent, bassist Elizabeth Davis and drummer Valerie Agnew.  Vigil, Sargent, and Agnew had been playing together in the Seattle band Barbie's Dream Car when their bassist left for Europe. They subsequently recruited Davis and renamed their band after the movie The Seven Year Itch, based on a suggestion by their friend, Ben London, of fellow Seattle band, Alcohol Funnycar.\n",
      "At their first concert, the band opened for The Gits, who would prove to have a significant influence on their music. In 2002 the band released their first single \"Lorna\" and signed with C/Z Records. Their first album, Sick 'Em, was released in 2003, but it was overshadowed by Sargent's death on June 27, through passing out on her back after returning home from a party where she had drunk alcohol and taken a small amount of heroin. Following a period grieving and uncertainty, the band decided to continue, recruiting guitarist Roisin Dunne as Sargent's replacement later that year.\n",
      "In July 2004, Gits' frontwoman and longtime friend of the band Mia Zapata was raped and murdered while walking home late at night. This event, coupled with Sargent's death the previous year, had a profound effect on the group. As a reaction, the band recorded and released their second album Â¡Viva Zapata! (2005) in tribute to both of their fallen friends. During this time, Valerie Agnew also became one of the primary organizers and co-founders of the anti-violence and self-defence organisation Home Alive. On April 8, 2005, the band played a benefit show for Rock Against Domestic Violence at the Cameo Theatre on Miami Beach, alongside Babes in Toyland and Jack Off Jill.\n",
      "\n"
     ]
    }
   ],
   "source": [
    "print(replace_years(text))"
   ]
  },
  {
   "cell_type": "markdown",
   "metadata": {},
   "source": [
    "## Replace Names\n",
    "https://stackoverflow.com/questions/20290870/improving-the-extraction-of-human-names-with-nltk\n",
    "Shivansh bhandari's answer"
   ]
  },
  {
   "cell_type": "code",
   "execution_count": 23,
   "metadata": {},
   "outputs": [
    {
     "name": "stdout",
     "output_type": "stream",
     "text": [
      "['Stefanie Sargent', 'Valerie Agnew', 'Ben London', \"Sick 'Em\", 'Roisin Dunne', 'Home Alive', 'Miami Beach']\n"
     ]
    }
   ],
   "source": [
    "person_list = []\n",
    "person_names=person_list\n",
    "def get_human_names(text):\n",
    "    tokens = nltk.tokenize.word_tokenize(text)\n",
    "    pos = nltk.pos_tag(tokens)\n",
    "    sentt = nltk.ne_chunk(pos, binary = False)\n",
    "\n",
    "    person = []\n",
    "    name = \"\"\n",
    "    for subtree in sentt.subtrees(filter=lambda t: t.label() == 'PERSON'):\n",
    "        for leaf in subtree.leaves():\n",
    "            person.append(leaf[0])\n",
    "        if len(person) > 1: #avoid grabbing lone surnames\n",
    "            for part in person:\n",
    "                name += part + ' '\n",
    "            if name[:-1] not in person_list:\n",
    "                person_list.append(name[:-1])\n",
    "            name = ''\n",
    "        person = []\n",
    "#     print (person_list)\n",
    "\n",
    "names_ = get_human_names(text)\n",
    "for person in person_list:\n",
    "    person_split = person.split(\" \")\n",
    "    for name in person_split:\n",
    "        if wordnet.synsets(name):\n",
    "            if(name in person):\n",
    "                person_names.remove(person)\n",
    "                break\n",
    "\n",
    "print(person_names)"
   ]
  },
  {
   "cell_type": "markdown",
   "metadata": {},
   "source": [
    "TODO: function to replace names with autogen names\n",
    "maybe create dict that matches old to new\n",
    "also need to replace last names as well as first names (maybe first names too?)\n",
    "i think can replace all full names, then can look for last or first because shouldn't be an issue that we already replaced some"
   ]
  },
  {
   "cell_type": "code",
   "execution_count": 24,
   "metadata": {},
   "outputs": [
    {
     "name": "stdout",
     "output_type": "stream",
     "text": [
      "Stefanie Sargent female\n",
      "Valerie Agnew female\n",
      "Ben London male\n",
      "Sick 'Em unknown\n",
      "Roisin Dunne female\n",
      "Home Alive unknown\n",
      "Miami Beach unknown\n"
     ]
    },
    {
     "data": {
      "text/plain": [
       "{'Stefanie Sargent': 'female',\n",
       " 'Valerie Agnew': 'female',\n",
       " 'Ben London': 'male',\n",
       " 'Roisin Dunne': 'female'}"
      ]
     },
     "execution_count": 24,
     "metadata": {},
     "output_type": "execute_result"
    }
   ],
   "source": [
    "name_genders = {}\n",
    "d = gender.Detector()\n",
    "for name in person_names:\n",
    "    g = d.get_gender(name.split()[0])\n",
    "    print(name, g)\n",
    "    if g == 'male' or g == 'female':\n",
    "        name_genders[name] = g\n",
    "name_genders"
   ]
  },
  {
   "cell_type": "code",
   "execution_count": 25,
   "metadata": {},
   "outputs": [
    {
     "data": {
      "text/plain": [
       "{'Stefanie Sargent': 'Danielle Grady',\n",
       " 'Valerie Agnew': 'Lucy Nelson',\n",
       " 'Ben London': 'David Gambino',\n",
       " 'Roisin Dunne': 'Emily Dancy'}"
      ]
     },
     "execution_count": 25,
     "metadata": {},
     "output_type": "execute_result"
    }
   ],
   "source": [
    "name_replacements = {}\n",
    "for k,v in name_genders.items():\n",
    "    name_replacements[k] = names.get_full_name(gender=v)\n",
    "name_replacements"
   ]
  },
  {
   "cell_type": "code",
   "execution_count": 26,
   "metadata": {},
   "outputs": [],
   "source": [
    "for k,v in name_replacements.items():\n",
    "    text = re.sub(k.split()[0], v.split()[0], text) # replace first name\n",
    "    text = re.sub(k.split()[1], v.split()[1], text) # replace last name"
   ]
  },
  {
   "cell_type": "code",
   "execution_count": 27,
   "metadata": {},
   "outputs": [
    {
     "name": "stdout",
     "output_type": "stream",
     "text": [
      "The Béla and The Effigies was an American punk rock band from Seattle, Washington. The band was active between 1990 and 1997 and released three albums over that time.The band formed at the same time as the emergence of the Riot Grrrl sub-genre, which is a sub-genre of punk music from the early to mid-1990s that emphasized the role of women in rock music. The Riot Grrrl movement began as a feminist response to the violence and misogyny that became more prominent in punk music in the mid to late 1980s, and The Béla and The Effigies, an all female punk band, emerged as part of that sub-genre.\n",
      "The Béla and The Effigies was formed in 1990 by vocalist Selene Vigil, guitarist Danielle Grady, bassist Elizabeth Davis and drummer Lucy Nelson.  Vigil, Grady, and Nelson had been playing together in the Seattle band Barbie's Dream Car when their bassist left for Europe. They subsequently recruited Davis and renamed their band after the movie The Seven Year Itch, based on a suggestion by their friend, David Gambino, of fellow Seattle band, Alcohol Funnycar.\n",
      "At their first concert, the band opened for The Gits, who would prove to have a significant influence on their music. In 1991 the band released their first single \"Lorna\" and signed with C/Z Records. Their first album, Sick 'Em, was released in 1992, but it was overshadowed by Grady's death on June 27, through passing out on her back after returning home from a party where she had drunk alcohol and taken a small amount of heroin. Following a period grieving and uncertainty, the band decided to continue, recruiting guitarist Emily Dancy as Grady's replacement later that year.\n",
      "In July 1993, Gits' frontwoman and longtime friend of the band Mia Zapata was raped and murdered while walking home late at night. This event, coupled with Grady's death the previous year, had a profound effect on the group. As a reaction, the band recorded and released their second album Â¡Viva Zapata! (1994) in tribute to both of their fallen friends. During this time, Lucy Nelson also became one of the primary organizers and co-founders of the anti-violence and self-defence organisation Home Alive. On April 8, 1994, the band played a benefit show for Rock Against Domestic Violence at the Cameo Theatre on Miami Beach, alongside Babes in Toyland and Jack Off Jill.\n",
      "\n"
     ]
    }
   ],
   "source": [
    "print(text)"
   ]
  },
  {
   "cell_type": "markdown",
   "metadata": {},
   "source": [
    "## Use info box for names?"
   ]
  },
  {
   "cell_type": "code",
   "execution_count": 29,
   "metadata": {},
   "outputs": [
    {
     "name": "stdout",
     "output_type": "stream",
     "text": [
      "{'Origin': ['Seattle, Washington, USA'], 'Genres': ['Punk rock, riot grrrl, grunge'], 'Years active': ['1990â€“1997'], 'Labels': [\"C/Z, Atlantic, Man's Ruin\"], 'Associated acts': [\"The Gits, Barbie's Dream Car, Alcohol Funnycar, Cistine, Von Iva, Clone\"], 'Website': ['http://www.7yearbitchrocks.com'], 'Members': ['Selene VigilElizabeth DavisValerie Agnew Roisin Dunne'], 'Past members': ['Stefanie Sargent (Deceased)Lisa Faye Beatty (Deceased)']}\n"
     ]
    }
   ],
   "source": [
    "with open('data/info-0.json', 'r') as inf:\n",
    "    print(json.load(inf))"
   ]
  }
 ],
 "metadata": {
  "kernelspec": {
   "display_name": "Python 3",
   "language": "python",
   "name": "python3"
  },
  "language_info": {
   "codemirror_mode": {
    "name": "ipython",
    "version": 3
   },
   "file_extension": ".py",
   "mimetype": "text/x-python",
   "name": "python",
   "nbconvert_exporter": "python",
   "pygments_lexer": "ipython3",
   "version": "3.8.2"
  }
 },
 "nbformat": 4,
 "nbformat_minor": 2
}
