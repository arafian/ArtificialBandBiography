{
 "cells": [
  {
   "cell_type": "code",
   "execution_count": 1,
   "metadata": {},
   "outputs": [],
   "source": [
    "import json\n",
    "import re\n",
    "from datetime import datetime\n",
    "import random\n",
    "import nltk\n",
    "import pickle\n",
    "from nameparser.parser import HumanName\n",
    "from nltk.corpus import wordnet\n",
    "# import names\n",
    "import gender_guesser.detector as gender\n",
    "import calendar"
   ]
  },
  {
   "cell_type": "code",
   "execution_count": 4,
   "metadata": {},
   "outputs": [],
   "source": [
    "with open(\"data/consolidatedData.json\", 'r', encoding='utf-8') as f:\n",
    "    consolidatedData = json.load(f)\n",
    "\n",
    "p = random.choice(consolidatedData['allPrunedParaComplete'])"
   ]
  },
  {
   "cell_type": "code",
   "execution_count": 7,
   "metadata": {},
   "outputs": [
    {
     "data": {
      "text/plain": [
       "\"[BAND_NAME] (in its last year of existence Shit & Chalou) was a [GENRE] band in pop rock and folk rock established in [YEAR]. The Aarhus-based band was made up of Anne Linnet, [PERSON_NAME_FULL_3_FEMALE], Lis Sørensen, [PERSON_NAME_FULL_0_FEMALE] and [PERSON_NAME_FULL_1_FEMALE].\\nIn the early [YEAR]s, Anne Linnet used to be in the band Tears along with her husband [PERSON_NAME_FULL_4_MALE]. [PERSON_NAME_FIRST_4] had the idea of a girl band and suggested two recruits from Århus Friskole (Århus Free School), namely [PERSON_NAME_FIRST_3] [PERSON_NAME_LAST_5] and [PERSON_NAME_FULL_1_FEMALE] to join Anne to form a band. Soon Lis Sørensen also joined in. They practiced at [PERSON_NAME_FIRST_1]'s parents house near Brabrand Lake in Aarhus.\\nIn [YEAR] there they took part in women-only Kvindefestival i Fælledparken in Copenhagen. After black American activist [PERSON_NAME_FULL_2_FEMALE] spoke, [BAND_NAME] came on stage with an accompanying male-band Delta Blues Band playing for them, which immediately brought protests against the band by liberation movement organizers who had specified that this was an all-women event.\\n\""
      ]
     },
     "execution_count": 7,
     "metadata": {},
     "output_type": "execute_result"
    }
   ],
   "source": [
    "p"
   ]
  },
  {
   "cell_type": "markdown",
   "metadata": {},
   "source": [
    "## Replace Band Name"
   ]
  },
  {
   "cell_type": "code",
   "execution_count": 4,
   "metadata": {},
   "outputs": [],
   "source": [
    "with open('titles', 'rb') as inf:\n",
    "    titles = pickle.load(inf)\n",
    "    \n",
    "determiners = []\n",
    "nouns = []\n",
    "adjectives = []\n",
    "for title in titles:\n",
    "    tagged_title = nltk.pos_tag(nltk.word_tokenize(title.lower()))\n",
    "    for tagged_word in tagged_title:\n",
    "        word = tagged_word[0]\n",
    "        pos = tagged_word[1]\n",
    "        if pos == 'DT':\n",
    "            determiners.append(word)\n",
    "        elif pos == 'NN' or pos == 'NNS':\n",
    "            nouns.append(word.capitalize())\n",
    "        elif pos == 'JJ':\n",
    "            adjectives.append(word.capitalize())"
   ]
  },
  {
   "cell_type": "code",
   "execution_count": 5,
   "metadata": {},
   "outputs": [],
   "source": [
    "def replace_band_name(text):\n",
    "    def getRandName():\n",
    "        determiner = random.choice(determiners).capitalize()\n",
    "        [adjective1, adjective2] = random.sample(adjectives, 2)\n",
    "        [noun1, noun2] = random.sample(nouns, 2)\n",
    "\n",
    "        title_format = random.randrange(3)\n",
    "        if title_format == 0:\n",
    "            return determiner + ' ' + adjective1 + ' ' + noun1\n",
    "        elif title_format == 1:\n",
    "            return determiner + ' ' + adjective1 + ' ' + adjective2 + ' ' + noun1\n",
    "        elif title_format == 2:\n",
    "            return determiner + ' ' + noun1 + ' and ' + determiner + ' ' + noun2\n",
    "        \n",
    "    new_name = getRandName()\n",
    "    text = re.sub('\\[BAND_NAME\\]', new_name, text)\n",
    "    return text"
   ]
  },
  {
   "cell_type": "markdown",
   "metadata": {},
   "source": [
    "## Replace Years"
   ]
  },
  {
   "cell_type": "code",
   "execution_count": 6,
   "metadata": {},
   "outputs": [],
   "source": [
    "def replace_years(text):\n",
    "    num_years = text.count('[YEAR]')\n",
    "    first_year = datetime.now().year - (5 * num_years)\n",
    "    years = [first_year]\n",
    "    for i in range(1, num_years):\n",
    "        years.append(years[i-1] + random.randint(0, 5))\n",
    "        \n",
    "    j = -1\n",
    "    def get_year(matchobj):\n",
    "        nonlocal j\n",
    "        j += 1\n",
    "        return years[j]\n",
    "\n",
    "    return re.sub(\"\\[YEAR\\]\", lambda x: str(get_year(x)), text)"
   ]
  },
  {
   "cell_type": "markdown",
   "metadata": {},
   "source": [
    "## Replace Months"
   ]
  },
  {
   "cell_type": "code",
   "execution_count": 7,
   "metadata": {},
   "outputs": [],
   "source": [
    "def replace_months(text):\n",
    "    months = [calendar.month_name[i] for i in range(1,13)] + [calendar.month_abbr[i] for i in range(1,13)]\n",
    "    return re.sub('\\[MONTH\\]', lambda x: random.choice(months), text)"
   ]
  },
  {
   "cell_type": "code",
   "execution_count": 13,
   "metadata": {},
   "outputs": [
    {
     "data": {
      "text/plain": [
       "'s replacement later that year.February'"
      ]
     },
     "execution_count": 13,
     "metadata": {},
     "output_type": "execute_result"
    }
   ],
   "source": [
    "replace_months(\"s replacement later that year.[MONTH]\")"
   ]
  },
  {
   "cell_type": "markdown",
   "metadata": {},
   "source": [
    "## Replace Names (doesn't work currently)\n",
    "https://stackoverflow.com/questions/20290870/improving-the-extraction-of-human-names-with-nltk\n",
    "Shivansh bhandari's answer"
   ]
  },
  {
   "cell_type": "code",
   "execution_count": 8,
   "metadata": {},
   "outputs": [
    {
     "ename": "NameError",
     "evalue": "name 'text' is not defined",
     "output_type": "error",
     "traceback": [
      "\u001b[1;31m---------------------------------------------------------------------------\u001b[0m",
      "\u001b[1;31mNameError\u001b[0m                                 Traceback (most recent call last)",
      "\u001b[1;32m<ipython-input-8-a6c9283560e3>\u001b[0m in \u001b[0;36m<module>\u001b[1;34m\u001b[0m\n\u001b[0;32m     20\u001b[0m \u001b[1;31m#     print (person_list)\u001b[0m\u001b[1;33m\u001b[0m\u001b[1;33m\u001b[0m\u001b[1;33m\u001b[0m\u001b[0m\n\u001b[0;32m     21\u001b[0m \u001b[1;33m\u001b[0m\u001b[0m\n\u001b[1;32m---> 22\u001b[1;33m \u001b[0mnames_\u001b[0m \u001b[1;33m=\u001b[0m \u001b[0mget_human_names\u001b[0m\u001b[1;33m(\u001b[0m\u001b[0mtext\u001b[0m\u001b[1;33m)\u001b[0m\u001b[1;33m\u001b[0m\u001b[1;33m\u001b[0m\u001b[0m\n\u001b[0m\u001b[0;32m     23\u001b[0m \u001b[1;32mfor\u001b[0m \u001b[0mperson\u001b[0m \u001b[1;32min\u001b[0m \u001b[0mperson_list\u001b[0m\u001b[1;33m:\u001b[0m\u001b[1;33m\u001b[0m\u001b[1;33m\u001b[0m\u001b[0m\n\u001b[0;32m     24\u001b[0m     \u001b[0mperson_split\u001b[0m \u001b[1;33m=\u001b[0m \u001b[0mperson\u001b[0m\u001b[1;33m.\u001b[0m\u001b[0msplit\u001b[0m\u001b[1;33m(\u001b[0m\u001b[1;34m\" \"\u001b[0m\u001b[1;33m)\u001b[0m\u001b[1;33m\u001b[0m\u001b[1;33m\u001b[0m\u001b[0m\n",
      "\u001b[1;31mNameError\u001b[0m: name 'text' is not defined"
     ]
    }
   ],
   "source": [
    "person_list = []\n",
    "person_names=person_list\n",
    "def get_human_names(text):\n",
    "    tokens = nltk.tokenize.word_tokenize(text)\n",
    "    pos = nltk.pos_tag(tokens)\n",
    "    sentt = nltk.ne_chunk(pos, binary = False)\n",
    "\n",
    "    person = []\n",
    "    name = \"\"\n",
    "    for subtree in sentt.subtrees(filter=lambda t: t.label() == 'PERSON'):\n",
    "        for leaf in subtree.leaves():\n",
    "            person.append(leaf[0])\n",
    "        if len(person) > 1: #avoid grabbing lone surnames\n",
    "            for part in person:\n",
    "                name += part + ' '\n",
    "            if name[:-1] not in person_list:\n",
    "                person_list.append(name[:-1])\n",
    "            name = ''\n",
    "        person = []\n",
    "#     print (person_list)\n",
    "\n",
    "names_ = get_human_names(text)\n",
    "for person in person_list:\n",
    "    person_split = person.split(\" \")\n",
    "    for name in person_split:\n",
    "        if wordnet.synsets(name):\n",
    "            if(name in person):\n",
    "                person_names.remove(person)\n",
    "                break\n",
    "\n",
    "print(person_names)"
   ]
  },
  {
   "cell_type": "markdown",
   "metadata": {},
   "source": [
    "TODO: function to replace names with autogen names\n",
    "maybe create dict that matches old to new\n",
    "also need to replace last names as well as first names (maybe first names too?)\n",
    "i think can replace all full names, then can look for last or first because shouldn't be an issue that we already replaced some"
   ]
  },
  {
   "cell_type": "code",
   "execution_count": 24,
   "metadata": {},
   "outputs": [
    {
     "name": "stdout",
     "output_type": "stream",
     "text": [
      "Stefanie Sargent female\n",
      "Valerie Agnew female\n",
      "Ben London male\n",
      "Sick 'Em unknown\n",
      "Roisin Dunne female\n",
      "Home Alive unknown\n",
      "Miami Beach unknown\n"
     ]
    },
    {
     "data": {
      "text/plain": [
       "{'Stefanie Sargent': 'female',\n",
       " 'Valerie Agnew': 'female',\n",
       " 'Ben London': 'male',\n",
       " 'Roisin Dunne': 'female'}"
      ]
     },
     "execution_count": 24,
     "metadata": {},
     "output_type": "execute_result"
    }
   ],
   "source": [
    "name_genders = {}\n",
    "d = gender.Detector()\n",
    "for name in person_names:\n",
    "    g = d.get_gender(name.split()[0])\n",
    "    print(name, g)\n",
    "    if g == 'male' or g == 'female':\n",
    "        name_genders[name] = g\n",
    "name_genders"
   ]
  },
  {
   "cell_type": "code",
   "execution_count": 25,
   "metadata": {},
   "outputs": [
    {
     "data": {
      "text/plain": [
       "{'Stefanie Sargent': 'Danielle Grady',\n",
       " 'Valerie Agnew': 'Lucy Nelson',\n",
       " 'Ben London': 'David Gambino',\n",
       " 'Roisin Dunne': 'Emily Dancy'}"
      ]
     },
     "execution_count": 25,
     "metadata": {},
     "output_type": "execute_result"
    }
   ],
   "source": [
    "name_replacements = {}\n",
    "for k,v in name_genders.items():\n",
    "    name_replacements[k] = names.get_full_name(gender=v)\n",
    "name_replacements"
   ]
  },
  {
   "cell_type": "code",
   "execution_count": 26,
   "metadata": {},
   "outputs": [],
   "source": [
    "for k,v in name_replacements.items():\n",
    "    text = re.sub(k.split()[0], v.split()[0], text) # replace first name\n",
    "    text = re.sub(k.split()[1], v.split()[1], text) # replace last name"
   ]
  },
  {
   "cell_type": "markdown",
   "metadata": {},
   "source": [
    "## Replace Genre"
   ]
  },
  {
   "cell_type": "markdown",
   "metadata": {},
   "source": [
    "### Get all Genres"
   ]
  },
  {
   "cell_type": "code",
   "execution_count": 9,
   "metadata": {},
   "outputs": [],
   "source": [
    "with open('data/consolidatedData.json', 'r', encoding='utf-8') as f:\n",
    "    data = json.load(f)\n",
    "    \n",
    "genres = set()\n",
    "for genre in data['allGenres']:\n",
    "    if isinstance(genre, str):\n",
    "        g = re.split(',|\\[', genre)[0]\n",
    "        genres.add(g)\n",
    "        \n",
    "genres = list(genres) # need to convert to list to be able to take a random choice from it"
   ]
  },
  {
   "cell_type": "code",
   "execution_count": 10,
   "metadata": {},
   "outputs": [],
   "source": [
    "def replace_genre(text):\n",
    "    return re.sub('\\[GENRE\\]', random.choice(genres), text)"
   ]
  },
  {
   "cell_type": "markdown",
   "metadata": {},
   "source": [
    "## Replace All Placeholders"
   ]
  },
  {
   "cell_type": "code",
   "execution_count": 14,
   "metadata": {},
   "outputs": [
    {
     "name": "stdout",
     "output_type": "stream",
     "text": [
      "[BAND_NAME] is an [GENRE] band formed in [YEAR] in Los Angeles, California, by five musicians: three from Mississippi, one from Pennsylvania and one from Indiana. The band currently consists of guitarists Rogers Stevens and [PERSON_NAME_FULL_0_MALE], drummer Glen Graham, vocalist [PERSON_NAME_FULL_4_MALE] and bassist [PERSON_NAME_FULL_3_MALE]. They are best known for their [YEAR] hit \"No Rain\", and enjoyed critical and commercial success in the early [YEAR]s with their neo-psychedelic take on alternative rock.\n",
      "[BAND_NAME] released two albums on Capitol Records – [BAND_NAME] ([YEAR]) and Soup ([YEAR]) – before their original lead vocalist [PERSON_NAME_FULL_2_FEMALE] died of a drug overdose on the band's tour bus in New Orleans on [MONTH] 21, [YEAR]. After four years of unsuccessfully searching for a replacement for [PERSON_NAME_LAST_2], [BAND_NAME] officially dissolved in [YEAR]. The remaining members reformed the band in [YEAR] with [PERSON_NAME_LAST_4] and recorded one album with him, For My Friends ([YEAR]). Shortly after its release, [PERSON_NAME_LAST_4] left [BAND_NAME] but rejoined in [YEAR], when the band returned to performing occasional gigs.  [BAND_NAME] is currently working on their fourth studio album. [BAND_NAME] has been nominated for 4 Grammy Awards.\n",
      "[BAND_NAME] formed in Los Angeles in [MONTH] [YEAR] after West Point, Mississippi, transplants Rogers Stevens and [PERSON_NAME_FULL_1_MALE], a guitarist and bassist respectively, met vocalist [PERSON_NAME_FULL_2_FEMALE], a native of Lafayette, Indiana.  Guitarist [PERSON_NAME_FULL_0_MALE], originally from Pennsylvania, was added shortly thereafter; the four eventually convinced drummer Glen Graham to relocate from Mississippi to complete the group after failing to find a drummer in Los Angeles.  Their moniker derived from a nickname [PERSON_NAME_LAST_1] had observed among Mississippi hippies, a name with precedent in the [YEAR]s blues artist Blind Lemon Jefferson and the Cheech & Chong character [BAND_NAME] Chitlin'.\n",
      "\n",
      "\n",
      "The Girls and The Brussels is an Rapcore band formed in 1961 in Los Angeles, California, by five musicians: three from Mississippi, one from Pennsylvania and one from Indiana. The band currently consists of guitarists Rogers Stevens and [PERSON_NAME_FULL_0_MALE], drummer Glen Graham, vocalist [PERSON_NAME_FULL_4_MALE] and bassist [PERSON_NAME_FULL_3_MALE]. They are best known for their 1963 hit \"No Rain\", and enjoyed critical and commercial success in the early 1963s with their neo-psychedelic take on alternative rock.\n",
      "The Girls and The Brussels released two albums on Capitol Records – The Girls and The Brussels (1967) and Soup (1972) – before their original lead vocalist [PERSON_NAME_FULL_2_FEMALE] died of a drug overdose on the band's tour bus in New Orleans on January 21, 1976. After four years of unsuccessfully searching for a replacement for [PERSON_NAME_LAST_2], The Girls and The Brussels officially dissolved in 1980. The remaining members reformed the band in 1984 with [PERSON_NAME_LAST_4] and recorded one album with him, For My Friends (1989). Shortly after its release, [PERSON_NAME_LAST_4] left The Girls and The Brussels but rejoined in 1989, when the band returned to performing occasional gigs.  The Girls and The Brussels is currently working on their fourth studio album. The Girls and The Brussels has been nominated for 4 Grammy Awards.\n",
      "The Girls and The Brussels formed in Los Angeles in April 1992 after West Point, Mississippi, transplants Rogers Stevens and [PERSON_NAME_FULL_1_MALE], a guitarist and bassist respectively, met vocalist [PERSON_NAME_FULL_2_FEMALE], a native of Lafayette, Indiana.  Guitarist [PERSON_NAME_FULL_0_MALE], originally from Pennsylvania, was added shortly thereafter; the four eventually convinced drummer Glen Graham to relocate from Mississippi to complete the group after failing to find a drummer in Los Angeles.  Their moniker derived from a nickname [PERSON_NAME_LAST_1] had observed among Mississippi hippies, a name with precedent in the 1993s blues artist Blind Lemon Jefferson and the Cheech & Chong character The Girls and The Brussels Chitlin'.\n",
      "\n"
     ]
    }
   ],
   "source": [
    "with open('data/consolidatedData.json', 'r', encoding='utf-8') as inf:\n",
    "    paras = json.load(inf)\n",
    "\n",
    "#with open('data/0.json', 'r', encoding='utf-8') as inf:\n",
    "#    data = json.load(inf)\n",
    "    \n",
    "para = paras['allPrunedParaComplete'][3]\n",
    "print(para)\n",
    "print(\"\")\n",
    "para = replace_band_name(para)\n",
    "para = replace_years(para)\n",
    "para = replace_months(para)\n",
    "para = replace_genre(para)\n",
    "print(para)"
   ]
  },
  {
   "cell_type": "code",
   "execution_count": null,
   "metadata": {},
   "outputs": [],
   "source": []
  }
 ],
 "metadata": {
  "kernelspec": {
   "display_name": "Python 3",
   "language": "python",
   "name": "python3"
  },
  "language_info": {
   "codemirror_mode": {
    "name": "ipython",
    "version": 3
   },
   "file_extension": ".py",
   "mimetype": "text/x-python",
   "name": "python",
   "nbconvert_exporter": "python",
   "pygments_lexer": "ipython3",
   "version": "3.9.1"
  }
 },
 "nbformat": 4,
 "nbformat_minor": 2
}
