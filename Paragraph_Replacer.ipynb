{
 "cells": [
  {
   "cell_type": "code",
   "execution_count": 15,
   "metadata": {},
   "outputs": [],
   "source": [
    "import json\n",
    "import re\n",
    "from datetime import datetime\n",
    "import random\n",
    "import nltk\n",
    "import pickle\n",
    "from nameparser.parser import HumanName\n",
    "from nltk.corpus import wordnet\n",
    "import names\n",
    "import gender_guesser.detector as gender"
   ]
  },
  {
   "cell_type": "markdown",
   "metadata": {},
   "source": [
    "## Replace Band Name"
   ]
  },
  {
   "cell_type": "code",
   "execution_count": 16,
   "metadata": {},
   "outputs": [],
   "source": [
    "with open('titles', 'rb') as inf:\n",
    "    titles = pickle.load(inf)\n",
    "    \n",
    "determiners = []\n",
    "nouns = []\n",
    "adjectives = []\n",
    "for title in titles:\n",
    "    tagged_title = nltk.pos_tag(nltk.word_tokenize(title.lower()))\n",
    "    for tagged_word in tagged_title:\n",
    "        word = tagged_word[0]\n",
    "        pos = tagged_word[1]\n",
    "        if pos == 'DT':\n",
    "            determiners.append(word)\n",
    "        elif pos == 'NN' or pos == 'NNS':\n",
    "            nouns.append(word.capitalize())\n",
    "        elif pos == 'JJ':\n",
    "            adjectives.append(word.capitalize())"
   ]
  },
  {
   "cell_type": "code",
   "execution_count": 34,
   "metadata": {},
   "outputs": [],
   "source": [
    "def replace_band_name(text):\n",
    "    def getRandName():\n",
    "        determiner = random.choice(determiners).capitalize()\n",
    "        [adjective1, adjective2] = random.sample(adjectives, 2)\n",
    "        [noun1, noun2] = random.sample(nouns, 2)\n",
    "\n",
    "        title_format = random.randrange(3)\n",
    "        if title_format == 0:\n",
    "            return determiner + ' ' + adjective1 + ' ' + noun1\n",
    "        elif title_format == 1:\n",
    "            return determiner + ' ' + adjective1 + ' ' + adjective2 + ' ' + noun1\n",
    "        elif title_format == 2:\n",
    "            return determiner + ' ' + noun1 + ' and ' + determiner + ' ' + noun2\n",
    "        \n",
    "    new_name = getRandName()\n",
    "    text = re.sub('\\[BAND_NAME\\]', new_name, text)\n",
    "    return text"
   ]
  },
  {
   "cell_type": "markdown",
   "metadata": {},
   "source": [
    "## Replace Years"
   ]
  },
  {
   "cell_type": "code",
   "execution_count": 83,
   "metadata": {},
   "outputs": [],
   "source": [
    "def replace_years(text):\n",
    "    num_years = text.count('[YEAR]')\n",
    "    first_year = datetime.now().year - (5 * num_years)\n",
    "    years = [first_year]\n",
    "    for i in range(1, num_years):\n",
    "        years.append(years[i-1] + random.randint(0, 5))\n",
    "        \n",
    "    j = -1\n",
    "    def get_year(matchobj):\n",
    "        nonlocal j\n",
    "        j += 1\n",
    "        return years[j]\n",
    "\n",
    "    return re.sub(\"\\[YEAR\\]\", lambda x: str(get_year(x)), text)"
   ]
  },
  {
   "cell_type": "markdown",
   "metadata": {},
   "source": [
    "## Replace Names (doesn't work currently)\n",
    "https://stackoverflow.com/questions/20290870/improving-the-extraction-of-human-names-with-nltk\n",
    "Shivansh bhandari's answer"
   ]
  },
  {
   "cell_type": "code",
   "execution_count": 23,
   "metadata": {},
   "outputs": [
    {
     "name": "stdout",
     "output_type": "stream",
     "text": [
      "['Stefanie Sargent', 'Valerie Agnew', 'Ben London', \"Sick 'Em\", 'Roisin Dunne', 'Home Alive', 'Miami Beach']\n"
     ]
    }
   ],
   "source": [
    "person_list = []\n",
    "person_names=person_list\n",
    "def get_human_names(text):\n",
    "    tokens = nltk.tokenize.word_tokenize(text)\n",
    "    pos = nltk.pos_tag(tokens)\n",
    "    sentt = nltk.ne_chunk(pos, binary = False)\n",
    "\n",
    "    person = []\n",
    "    name = \"\"\n",
    "    for subtree in sentt.subtrees(filter=lambda t: t.label() == 'PERSON'):\n",
    "        for leaf in subtree.leaves():\n",
    "            person.append(leaf[0])\n",
    "        if len(person) > 1: #avoid grabbing lone surnames\n",
    "            for part in person:\n",
    "                name += part + ' '\n",
    "            if name[:-1] not in person_list:\n",
    "                person_list.append(name[:-1])\n",
    "            name = ''\n",
    "        person = []\n",
    "#     print (person_list)\n",
    "\n",
    "names_ = get_human_names(text)\n",
    "for person in person_list:\n",
    "    person_split = person.split(\" \")\n",
    "    for name in person_split:\n",
    "        if wordnet.synsets(name):\n",
    "            if(name in person):\n",
    "                person_names.remove(person)\n",
    "                break\n",
    "\n",
    "print(person_names)"
   ]
  },
  {
   "cell_type": "markdown",
   "metadata": {},
   "source": [
    "TODO: function to replace names with autogen names\n",
    "maybe create dict that matches old to new\n",
    "also need to replace last names as well as first names (maybe first names too?)\n",
    "i think can replace all full names, then can look for last or first because shouldn't be an issue that we already replaced some"
   ]
  },
  {
   "cell_type": "code",
   "execution_count": 24,
   "metadata": {},
   "outputs": [
    {
     "name": "stdout",
     "output_type": "stream",
     "text": [
      "Stefanie Sargent female\n",
      "Valerie Agnew female\n",
      "Ben London male\n",
      "Sick 'Em unknown\n",
      "Roisin Dunne female\n",
      "Home Alive unknown\n",
      "Miami Beach unknown\n"
     ]
    },
    {
     "data": {
      "text/plain": [
       "{'Stefanie Sargent': 'female',\n",
       " 'Valerie Agnew': 'female',\n",
       " 'Ben London': 'male',\n",
       " 'Roisin Dunne': 'female'}"
      ]
     },
     "execution_count": 24,
     "metadata": {},
     "output_type": "execute_result"
    }
   ],
   "source": [
    "name_genders = {}\n",
    "d = gender.Detector()\n",
    "for name in person_names:\n",
    "    g = d.get_gender(name.split()[0])\n",
    "    print(name, g)\n",
    "    if g == 'male' or g == 'female':\n",
    "        name_genders[name] = g\n",
    "name_genders"
   ]
  },
  {
   "cell_type": "code",
   "execution_count": 25,
   "metadata": {},
   "outputs": [
    {
     "data": {
      "text/plain": [
       "{'Stefanie Sargent': 'Danielle Grady',\n",
       " 'Valerie Agnew': 'Lucy Nelson',\n",
       " 'Ben London': 'David Gambino',\n",
       " 'Roisin Dunne': 'Emily Dancy'}"
      ]
     },
     "execution_count": 25,
     "metadata": {},
     "output_type": "execute_result"
    }
   ],
   "source": [
    "name_replacements = {}\n",
    "for k,v in name_genders.items():\n",
    "    name_replacements[k] = names.get_full_name(gender=v)\n",
    "name_replacements"
   ]
  },
  {
   "cell_type": "code",
   "execution_count": 26,
   "metadata": {},
   "outputs": [],
   "source": [
    "for k,v in name_replacements.items():\n",
    "    text = re.sub(k.split()[0], v.split()[0], text) # replace first name\n",
    "    text = re.sub(k.split()[1], v.split()[1], text) # replace last name"
   ]
  },
  {
   "cell_type": "markdown",
   "metadata": {},
   "source": [
    "## Replace Genre"
   ]
  },
  {
   "cell_type": "markdown",
   "metadata": {},
   "source": [
    "### Get all Genres"
   ]
  },
  {
   "cell_type": "code",
   "execution_count": 84,
   "metadata": {},
   "outputs": [],
   "source": [
    "with open('data/consolidatedData.json', 'r', encoding='utf-8') as f:\n",
    "    data = json.load(f)\n",
    "    \n",
    "genres = set()\n",
    "for genre in data['allGenres']:\n",
    "    if isinstance(genre, str):\n",
    "        g = re.split(',|\\[', genre)[0]\n",
    "        genres.add(g)\n",
    "        \n",
    "genres = list(genres) # need to convert to list to be able to take a random choice from it"
   ]
  },
  {
   "cell_type": "code",
   "execution_count": 86,
   "metadata": {},
   "outputs": [],
   "source": [
    "def replace_genre(text):\n",
    "    return re.sub('\\[GENRE\\]', random.choice(genres), text)"
   ]
  },
  {
   "cell_type": "markdown",
   "metadata": {},
   "source": [
    "## Replace All Placeholders"
   ]
  },
  {
   "cell_type": "code",
   "execution_count": 101,
   "metadata": {},
   "outputs": [
    {
     "name": "stdout",
     "output_type": "stream",
     "text": [
      "The Heavy New Pyros was an melodic black/death band from Seattle, Washington. The band was active between 1986 and 1989 and released three albums over that time.The band formed at the same time as the emergence of the Riot Grrrl sub-genre, which is a sub-genre of punk music from the early to mid-1993s that emphasized the role of women in rock music. The Riot Grrrl movement began as a feminist response to the violence and misogyny that became more prominent in punk music in the mid to late 1993s, and The Heavy New Pyros, an all female punk band, emerged as part of that sub-genre.\n",
      "The Heavy New Pyros was formed in 1994 by vocalist Selene Vigil, guitarist [PERSON_NAME_FULL_3_FEMALE], bassist Elizabeth Davis and drummer [PERSON_NAME_FULL_0_FEMALE].  Vigil, [PERSON_NAME_LAST_3], and [PERSON_NAME_LAST_0] had been playing together in the Seattle band Barbie's Dream Car when their bassist left for Europe. They subsequently recruited Davis and renamed their band after the movie The Seven Year Itch, based on a suggestion by their friend, [PERSON_NAME_FULL_1_MALE], of fellow Seattle band, Alcohol Funnycar.\n",
      "At their first concert, the band opened for The Gits, who would prove to have a significant influence on their music. In 1999 the band released their first single \"Lorna\" and signed with C/Z Records. Their first album, Sick 'Em, was released in 2004, but it was overshadowed by [PERSON_NAME_LAST_3]'s death on [MONTH] 27, through passing out on her back after returning home from a party where she had drunk alcohol and taken a small amount of heroin. Following a period grieving and uncertainty, the band decided to continue, recruiting guitarist [PERSON_NAME_FULL_2_FEMALE] as [PERSON_NAME_LAST_3]'s replacement later that year.\n",
      "\n"
     ]
    }
   ],
   "source": [
    "with open('data/consolidatedData.json', 'r', encoding='utf-8') as inf:\n",
    "    paras = json.load(inf)\n",
    "\n",
    "#with open('data/0.json', 'r', encoding='utf-8') as inf:\n",
    "#    data = json.load(inf)\n",
    "    \n",
    "para = paras['allPrunedParaComplete'][0]\n",
    "para = replace_band_name(para)\n",
    "para = replace_years(para)\n",
    "para = replace_genre(para)\n",
    "print(para)"
   ]
  },
  {
   "cell_type": "code",
   "execution_count": null,
   "metadata": {},
   "outputs": [],
   "source": []
  }
 ],
 "metadata": {
  "kernelspec": {
   "display_name": "Python 3",
   "language": "python",
   "name": "python3"
  },
  "language_info": {
   "codemirror_mode": {
    "name": "ipython",
    "version": 3
   },
   "file_extension": ".py",
   "mimetype": "text/x-python",
   "name": "python",
   "nbconvert_exporter": "python",
   "pygments_lexer": "ipython3",
   "version": "3.8.2"
  }
 },
 "nbformat": 4,
 "nbformat_minor": 2
}
