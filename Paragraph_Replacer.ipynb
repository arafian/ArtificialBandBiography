{
 "cells": [
  {
   "cell_type": "code",
   "execution_count": 1,
   "metadata": {},
   "outputs": [],
   "source": [
    "import json\n",
    "import re\n",
    "from datetime import datetime\n",
    "import random\n",
    "import nltk\n",
    "import pickle\n",
    "from nameparser.parser import HumanName\n",
    "from nltk.corpus import wordnet\n",
    "# import names\n",
    "import gender_guesser.detector as gender\n",
    "import calendar\n",
    "import names"
   ]
  },
  {
   "cell_type": "code",
   "execution_count": 2,
   "metadata": {},
   "outputs": [],
   "source": [
    "with open(\"data/consolidatedData.json\", 'r', encoding='utf-8') as f:\n",
    "    consolidatedData = json.load(f)\n",
    "\n",
    "p = random.choice(consolidatedData['allPrunedParaComplete'])"
   ]
  },
  {
   "cell_type": "code",
   "execution_count": 3,
   "metadata": {},
   "outputs": [
    {
     "data": {
      "text/plain": [
       "[\"[BAND_NAME] is an [GENRE] band, created by singer-songwriter-composer-producer-actor  Kirpatrick Thomas. Founded in [YEAR], the band originated in Newark, Delaware along with such other local bands of the period including Jake and the Stiffs, The Verge, [PERSON_NAME_FULL_3_MALE], Zen Guerilla and Smashing Orange. Heavily influenced by The Doors, [PERSON_NAME_FULL_2_FEMALE], Hawkwind, [PERSON_NAME_LAST_4] Haack, and Chrome, [BAND_NAME]'s early stages were experimental and differed greatly from their present sound though the band's musical style is ever in a period of flux.\\n\",\n",
       " 'In the summer of [YEAR], band members Kirpatrick Thomas, [PERSON_NAME_FULL_1_MALE] and [PERSON_NAME_FULL_0_MALE] re-located to Los Angeles. The band re-formed to include Bobby Bones, [PERSON_NAME_FULL_6_MALE], Frankie \"Teardrop\" Emerson and Rob Campanella of The Brian Jonestown Massacre and Jason “Plucky” Anchondo of The Warlocks. Inspired by their new locale, the band began a [GENRE]',\n",
       " 'In [YEAR], Kirpatrick Thomas along with filmmaker [PERSON_NAME_FULL_4_MALE] began production on the psychedelic western independent feature film, The Legend Of God’s Gun, inspired by the same classic Western Films that influenced their music, most often those directed by Sergio Leone and scored by [PERSON_NAME_FULL_5_MALE].\\n']"
      ]
     },
     "execution_count": 3,
     "metadata": {},
     "output_type": "execute_result"
    }
   ],
   "source": [
    "p"
   ]
  },
  {
   "cell_type": "markdown",
   "metadata": {},
   "source": [
    "## Replace Band Name"
   ]
  },
  {
   "cell_type": "code",
   "execution_count": 4,
   "metadata": {},
   "outputs": [],
   "source": [
    "with open('titles', 'rb') as inf:\n",
    "    titles = pickle.load(inf)\n",
    "    \n",
    "determiners = []\n",
    "nouns = []\n",
    "adjectives = []\n",
    "for title in titles:\n",
    "    tagged_title = nltk.pos_tag(nltk.word_tokenize(title.lower()))\n",
    "    for tagged_word in tagged_title:\n",
    "        word = tagged_word[0]\n",
    "        pos = tagged_word[1]\n",
    "        if pos == 'DT':\n",
    "            determiners.append(word)\n",
    "        elif pos == 'NN' or pos == 'NNS':\n",
    "            nouns.append(word.capitalize())\n",
    "        elif pos == 'JJ':\n",
    "            adjectives.append(word.capitalize())"
   ]
  },
  {
   "cell_type": "code",
   "execution_count": 5,
   "metadata": {},
   "outputs": [],
   "source": [
    "def replace_band_name(text):\n",
    "    def getRandName():\n",
    "        determiner = random.choice(determiners).capitalize()\n",
    "        [adjective1, adjective2] = random.sample(adjectives, 2)\n",
    "        [noun1, noun2] = random.sample(nouns, 2)\n",
    "\n",
    "        title_format = random.randrange(3)\n",
    "        if title_format == 0:\n",
    "            return determiner + ' ' + adjective1 + ' ' + noun1\n",
    "        elif title_format == 1:\n",
    "            return determiner + ' ' + adjective1 + ' ' + adjective2 + ' ' + noun1\n",
    "        elif title_format == 2:\n",
    "            return determiner + ' ' + noun1 + ' and ' + determiner + ' ' + noun2\n",
    "        \n",
    "    new_name = getRandName()\n",
    "    text = re.sub('\\[BAND_NAME\\]', new_name, text)\n",
    "    return text"
   ]
  },
  {
   "cell_type": "markdown",
   "metadata": {},
   "source": [
    "## Replace Years"
   ]
  },
  {
   "cell_type": "code",
   "execution_count": 6,
   "metadata": {},
   "outputs": [],
   "source": [
    "def replace_years(text):\n",
    "    num_years = text.count('[YEAR]')\n",
    "    first_year = datetime.now().year - (5 * num_years)\n",
    "    years = [first_year]\n",
    "    for i in range(1, num_years):\n",
    "        years.append(years[i-1] + random.randint(0, 5))\n",
    "        \n",
    "    j = -1\n",
    "    def get_year(matchobj):\n",
    "        nonlocal j\n",
    "        j += 1\n",
    "        return years[j]\n",
    "\n",
    "    return re.sub(\"\\[YEAR\\]\", lambda x: str(get_year(x)), text)"
   ]
  },
  {
   "cell_type": "markdown",
   "metadata": {},
   "source": [
    "## Replace Months"
   ]
  },
  {
   "cell_type": "code",
   "execution_count": 7,
   "metadata": {},
   "outputs": [],
   "source": [
    "def replace_months(text):\n",
    "    months = [calendar.month_name[i] for i in range(1,13)] + [calendar.month_abbr[i] for i in range(1,13)]\n",
    "    return re.sub('\\[MONTH\\]', lambda x: random.choice(months), text)"
   ]
  },
  {
   "cell_type": "code",
   "execution_count": 8,
   "metadata": {},
   "outputs": [
    {
     "data": {
      "text/plain": [
       "'s replacement later that year.Dec'"
      ]
     },
     "execution_count": 8,
     "metadata": {},
     "output_type": "execute_result"
    }
   ],
   "source": [
    "replace_months(\"s replacement later that year.[MONTH]\")"
   ]
  },
  {
   "cell_type": "markdown",
   "metadata": {},
   "source": [
    "## Replace Names "
   ]
  },
  {
   "cell_type": "code",
   "execution_count": 64,
   "metadata": {},
   "outputs": [],
   "source": [
    "def replace_person_names(text):\n",
    "    full_name_genders = {}\n",
    "    for k in re.findall('PERSON_NAME_FULL_._(?:MALE|FEMALE)', para):\n",
    "        if k[-6:] == 'FEMALE':\n",
    "            full_name_genders[k] = 'female'\n",
    "        else:\n",
    "            full_name_genders[k] = 'male'\n",
    "\n",
    "    full_name_replacements = {}\n",
    "    for k,v in full_name_genders.items():\n",
    "        full_name_replacements[k] = names.get_full_name(gender=v)\n",
    "        \n",
    "    # replace full names\n",
    "    for k,v in full_name_replacements.items():\n",
    "        text = re.sub(k, v, text) \n",
    "\n",
    "    # replace last names\n",
    "    for k in re.findall('PERSON_NAME_LAST_.', para):\n",
    "        # get corresponding last name from full names by person number\n",
    "        last_name = None\n",
    "        for name_key in full_name_replacements.keys():\n",
    "            person_num = k[-1]\n",
    "            if person_num in name_key:\n",
    "                last_name = full_name_replacements[name_key].split()[1]\n",
    "                \n",
    "        if last_name:\n",
    "            text = re.sub(k, last_name, text)\n",
    "        else:\n",
    "            text = re.sub(k, random.choice(['Ngo', 'Movva', 'Rafian', 'Jain']), text) # easter egg\n",
    "            \n",
    "    # replace first names\n",
    "    for k in re.findall('PERSON_NAME_FIRST_.', para):\n",
    "        # get corresponding first name from full names by person number\n",
    "        first_name = None\n",
    "        for name_key in full_name_replacements.keys():\n",
    "            person_num = k[-1]\n",
    "            if person_num in name_key:\n",
    "                first_name = full_name_replacements[name_key].split()[0]\n",
    "                \n",
    "        if first_name:\n",
    "            text = re.sub(k, first_name, text)\n",
    "        else:\n",
    "            text = re.sub(k, random.choice(['James', 'Mani', 'Arman', 'Ishaan']), text) # easter egg\n",
    "        \n",
    "    return text"
   ]
  },
  {
   "cell_type": "code",
   "execution_count": null,
   "metadata": {},
   "outputs": [],
   "source": [
    "for k,v in name_replacements.items():\n",
    "    text = re.sub(k.split()[0], v.split()[0], text) # replace first name\n",
    "#    text = re.sub(k.split()[1], v.split()[1], text) # replace last name"
   ]
  },
  {
   "cell_type": "markdown",
   "metadata": {},
   "source": [
    "## Replace Genre"
   ]
  },
  {
   "cell_type": "markdown",
   "metadata": {},
   "source": [
    "### Get all Genres"
   ]
  },
  {
   "cell_type": "code",
   "execution_count": 10,
   "metadata": {},
   "outputs": [],
   "source": [
    "with open('data/consolidatedData.json', 'r', encoding='utf-8') as f:\n",
    "    data = json.load(f)\n",
    "    \n",
    "genres = set()\n",
    "for genre in data['allGenres']:\n",
    "    if isinstance(genre, str):\n",
    "        g = re.split(',|\\[', genre)[0]\n",
    "        genres.add(g)\n",
    "        \n",
    "genres = list(genres) # need to convert to list to be able to take a random choice from it"
   ]
  },
  {
   "cell_type": "code",
   "execution_count": 11,
   "metadata": {},
   "outputs": [],
   "source": [
    "def replace_genre(text):\n",
    "    return re.sub('\\[GENRE\\]', random.choice(genres), text)"
   ]
  },
  {
   "cell_type": "markdown",
   "metadata": {},
   "source": [
    "## Replace All Placeholders"
   ]
  },
  {
   "cell_type": "code",
   "execution_count": 66,
   "metadata": {
    "scrolled": false
   },
   "outputs": [
    {
     "name": "stdout",
     "output_type": "stream",
     "text": [
      "[BAND_NAME] was a [GENRE] band from Austin, Texas.\n",
      "The seeds of [BAND_NAME] were originally planted deep underground by founding members [PERSON_NAME_FIRST_0] Faust (Lead Vocals, Bass, Guitars) and Buz Zoller (Guitars, Vocals) in [YEAR]. With the addition of [PERSON_NAME_FULL_0_MALE] (Guitars, Vocals) in [YEAR] and [PERSON_NAME_FULL_1_MALE] (Drums, Vocals) in [YEAR], the roots took hold. The unassuming rock band, working in the sweaty club environments of Austin, Texas and nearby cities and states, began its campaign to enter the music world with their independently produced 4-track, cassette only release \"Turmoil in the Toybox\". \n",
      "After being \"discovered\" (buying and listening to Turmoil) by CMJ (College Media Journal) veteran Scott Byron (A&R guru for BMG label Zoo Entertainment), the band was quickly signed following feverish live performances preceding and during Austin's popular South by Southwest Music Festival. A fast paced [YEAR] resulted in the rapid replacement of local management and legal representation by industry insiders in New York City and Hollywood. Riding on the \"Turmoil Tapes\", the band embarked on a [GENRE] a foundation in the \"cool club circuit\" that made [BAND_NAME] welcome throughout the U.S. and Canada.\n",
      "\n",
      "\n",
      "{'PERSON_NAME_FULL_0_MALE': 'Steven Chacon', 'PERSON_NAME_FULL_1_MALE': 'Benjamin Bickford'}\n",
      "A Working Party was a  Rock band from Austin, Texas.\n",
      "The seeds of A Working Party were originally planted deep underground by founding members Steven Faust (Lead Vocals, Bass, Guitars) and Buz Zoller (Guitars, Vocals) in 2001. With the addition of Steven Chacon (Guitars, Vocals) in 2001 and Benjamin Bickford (Drums, Vocals) in 2006, the roots took hold. The unassuming rock band, working in the sweaty club environments of Austin, Texas and nearby cities and states, began its campaign to enter the music world with their independently produced 4-track, cassette only release \"Turmoil in the Toybox\". \n",
      "After being \"discovered\" (buying and listening to Turmoil) by CMJ (College Media Journal) veteran Scott Byron (A&R guru for BMG label Zoo Entertainment), the band was quickly signed following feverish live performances preceding and during Austin's popular South by Southwest Music Festival. A fast paced 2008 resulted in the rapid replacement of local management and legal representation by industry insiders in New York City and Hollywood. Riding on the \"Turmoil Tapes\", the band embarked on a  Rock a foundation in the \"cool club circuit\" that made A Working Party welcome throughout the U.S. and Canada.\n",
      "Steven\n"
     ]
    }
   ],
   "source": [
    "with open('data/consolidatedData.json', 'r', encoding='utf-8') as inf:\n",
    "    paras = json.load(inf)\n",
    "\n",
    "#with open('data/0.json', 'r', encoding='utf-8') as inf:\n",
    "#    data = json.load(inf)\n",
    "    \n",
    "para = paras['allPrunedParaComplete'][10]\n",
    "para = ''.join(para)\n",
    "print(para)\n",
    "print(\"\")\n",
    "para += '[PERSON_NAME_FIRST_0]'\n",
    "para = replace_band_name(para)\n",
    "para = replace_years(para)\n",
    "para = replace_months(para)\n",
    "para = replace_genre(para)\n",
    "para = re.sub('\\[|\\]', '', para) # need to get rid of brackets to be able to replace names using re.sub\n",
    "print(replace_person_names(para))"
   ]
  },
  {
   "cell_type": "code",
   "execution_count": null,
   "metadata": {},
   "outputs": [],
   "source": []
  }
 ],
 "metadata": {
  "kernelspec": {
   "display_name": "Python 3",
   "language": "python",
   "name": "python3"
  },
  "language_info": {
   "codemirror_mode": {
    "name": "ipython",
    "version": 3
   },
   "file_extension": ".py",
   "mimetype": "text/x-python",
   "name": "python",
   "nbconvert_exporter": "python",
   "pygments_lexer": "ipython3",
   "version": "3.8.2"
  }
 },
 "nbformat": 4,
 "nbformat_minor": 2
}
